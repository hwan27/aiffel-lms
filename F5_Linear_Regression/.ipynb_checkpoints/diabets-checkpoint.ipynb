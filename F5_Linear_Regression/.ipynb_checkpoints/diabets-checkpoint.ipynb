{
 "cells": [
  {
   "cell_type": "markdown",
   "metadata": {},
   "source": [
    "## 데이터 가져오기"
   ]
  },
  {
   "cell_type": "code",
   "execution_count": 1,
   "metadata": {},
   "outputs": [
    {
     "name": "stdout",
     "output_type": "stream",
     "text": [
      "df_X\n",
      "           age       sex       bmi        bp        s1        s2        s3  \\\n",
      "0    0.038076  0.050680  0.061696  0.021872 -0.044223 -0.034821 -0.043401   \n",
      "1   -0.001882 -0.044642 -0.051474 -0.026328 -0.008449 -0.019163  0.074412   \n",
      "2    0.085299  0.050680  0.044451 -0.005671 -0.045599 -0.034194 -0.032356   \n",
      "3   -0.089063 -0.044642 -0.011595 -0.036656  0.012191  0.024991 -0.036038   \n",
      "4    0.005383 -0.044642 -0.036385  0.021872  0.003935  0.015596  0.008142   \n",
      "..        ...       ...       ...       ...       ...       ...       ...   \n",
      "437  0.041708  0.050680  0.019662  0.059744 -0.005697 -0.002566 -0.028674   \n",
      "438 -0.005515  0.050680 -0.015906 -0.067642  0.049341  0.079165 -0.028674   \n",
      "439  0.041708  0.050680 -0.015906  0.017282 -0.037344 -0.013840 -0.024993   \n",
      "440 -0.045472 -0.044642  0.039062  0.001215  0.016318  0.015283 -0.028674   \n",
      "441 -0.045472 -0.044642 -0.073030 -0.081414  0.083740  0.027809  0.173816   \n",
      "\n",
      "           s4        s5        s6  \n",
      "0   -0.002592  0.019908 -0.017646  \n",
      "1   -0.039493 -0.068330 -0.092204  \n",
      "2   -0.002592  0.002864 -0.025930  \n",
      "3    0.034309  0.022692 -0.009362  \n",
      "4   -0.002592 -0.031991 -0.046641  \n",
      "..        ...       ...       ...  \n",
      "437 -0.002592  0.031193  0.007207  \n",
      "438  0.034309 -0.018118  0.044485  \n",
      "439 -0.011080 -0.046879  0.015491  \n",
      "440  0.026560  0.044528 -0.025930  \n",
      "441 -0.039493 -0.004220  0.003064  \n",
      "\n",
      "[442 rows x 10 columns]\n",
      "df_y\n",
      "      target\n",
      "0     151.0\n",
      "1      75.0\n",
      "2     141.0\n",
      "3     206.0\n",
      "4     135.0\n",
      "..      ...\n",
      "437   178.0\n",
      "438   104.0\n",
      "439   132.0\n",
      "440   220.0\n",
      "441    57.0\n",
      "\n",
      "[442 rows x 1 columns]\n"
     ]
    }
   ],
   "source": [
    "from sklearn.datasets import load_diabetes\n",
    "import pandas as pd\n",
    "\n",
    "diabetes = load_diabetes()\n",
    "df_X = pd.DataFrame(diabetes.data, columns=diabetes.feature_names)\n",
    "df_y = pd.DataFrame(diabetes.target, columns=[\"target\"])\n",
    "\n",
    "print('df_X\\n', df_X)\n",
    "print('df_y\\n', df_y)\n"
   ]
  },
  {
   "cell_type": "markdown",
   "metadata": {},
   "source": [
    "---\n",
    "## 데이터를 세팅하기"
   ]
  },
  {
   "cell_type": "code",
   "execution_count": 2,
   "metadata": {},
   "outputs": [
    {
     "name": "stdout",
     "output_type": "stream",
     "text": [
      "X\n",
      " [[ 0.03807591  0.05068012  0.06169621 ... -0.00259226  0.01990842\n",
      "  -0.01764613]\n",
      " [-0.00188202 -0.04464164 -0.05147406 ... -0.03949338 -0.06832974\n",
      "  -0.09220405]\n",
      " [ 0.08529891  0.05068012  0.04445121 ... -0.00259226  0.00286377\n",
      "  -0.02593034]\n",
      " ...\n",
      " [ 0.04170844  0.05068012 -0.01590626 ... -0.01107952 -0.04687948\n",
      "   0.01549073]\n",
      " [-0.04547248 -0.04464164  0.03906215 ...  0.02655962  0.04452837\n",
      "  -0.02593034]\n",
      " [-0.04547248 -0.04464164 -0.0730303  ... -0.03949338 -0.00421986\n",
      "   0.00306441]]\n",
      "y\n",
      " [151.  75. 141. 206. 135.  97. 138.  63. 110. 310. 101.  69. 179. 185.\n",
      " 118. 171. 166. 144.  97. 168.  68.  49.  68. 245. 184. 202. 137.  85.\n",
      " 131. 283. 129.  59. 341.  87.  65. 102. 265. 276. 252.  90. 100.  55.\n",
      "  61.  92. 259.  53. 190. 142.  75. 142. 155. 225.  59. 104. 182. 128.\n",
      "  52.  37. 170. 170.  61. 144.  52. 128.  71. 163. 150.  97. 160. 178.\n",
      "  48. 270. 202. 111.  85.  42. 170. 200. 252. 113. 143.  51.  52. 210.\n",
      "  65. 141.  55. 134.  42. 111.  98. 164.  48.  96.  90. 162. 150. 279.\n",
      "  92.  83. 128. 102. 302. 198.  95.  53. 134. 144. 232.  81. 104.  59.\n",
      " 246. 297. 258. 229. 275. 281. 179. 200. 200. 173. 180.  84. 121. 161.\n",
      "  99. 109. 115. 268. 274. 158. 107.  83. 103. 272.  85. 280. 336. 281.\n",
      " 118. 317. 235.  60. 174. 259. 178. 128.  96. 126. 288.  88. 292.  71.\n",
      " 197. 186.  25.  84.  96. 195.  53. 217. 172. 131. 214.  59.  70. 220.\n",
      " 268. 152.  47.  74. 295. 101. 151. 127. 237. 225.  81. 151. 107.  64.\n",
      " 138. 185. 265. 101. 137. 143. 141.  79. 292. 178.  91. 116.  86. 122.\n",
      "  72. 129. 142.  90. 158.  39. 196. 222. 277.  99. 196. 202. 155.  77.\n",
      " 191.  70.  73.  49.  65. 263. 248. 296. 214. 185.  78.  93. 252. 150.\n",
      "  77. 208.  77. 108. 160.  53. 220. 154. 259.  90. 246. 124.  67.  72.\n",
      " 257. 262. 275. 177.  71.  47. 187. 125.  78.  51. 258. 215. 303. 243.\n",
      "  91. 150. 310. 153. 346.  63.  89.  50.  39. 103. 308. 116. 145.  74.\n",
      "  45. 115. 264.  87. 202. 127. 182. 241.  66.  94. 283.  64. 102. 200.\n",
      " 265.  94. 230. 181. 156. 233.  60. 219.  80.  68. 332. 248.  84. 200.\n",
      "  55.  85.  89.  31. 129.  83. 275.  65. 198. 236. 253. 124.  44. 172.\n",
      " 114. 142. 109. 180. 144. 163. 147.  97. 220. 190. 109. 191. 122. 230.\n",
      " 242. 248. 249. 192. 131. 237.  78. 135. 244. 199. 270. 164.  72.  96.\n",
      " 306.  91. 214.  95. 216. 263. 178. 113. 200. 139. 139.  88. 148.  88.\n",
      " 243.  71.  77. 109. 272.  60.  54. 221.  90. 311. 281. 182. 321.  58.\n",
      " 262. 206. 233. 242. 123. 167.  63. 197.  71. 168. 140. 217. 121. 235.\n",
      " 245.  40.  52. 104. 132.  88.  69. 219.  72. 201. 110.  51. 277.  63.\n",
      " 118.  69. 273. 258.  43. 198. 242. 232. 175.  93. 168. 275. 293. 281.\n",
      "  72. 140. 189. 181. 209. 136. 261. 113. 131. 174. 257.  55.  84.  42.\n",
      " 146. 212. 233.  91. 111. 152. 120.  67. 310.  94. 183.  66. 173.  72.\n",
      "  49.  64.  48. 178. 104. 132. 220.  57.]\n"
     ]
    }
   ],
   "source": [
    "X = df_X[['age', 'sex', 'bmi', 'bp', 's1', 's2', 's3', 's4', 's5', 's6']].values\n",
    "y = df_y['target'].values\n",
    "\n",
    "print('X\\n', X)\n",
    "print('y\\n', y)"
   ]
  },
  {
   "cell_type": "code",
   "execution_count": 3,
   "metadata": {},
   "outputs": [
    {
     "name": "stdout",
     "output_type": "stream",
     "text": [
      "(353, 10) (353,)\n",
      "(89, 10) (89,)\n"
     ]
    }
   ],
   "source": [
    "from sklearn.model_selection import train_test_split\n",
    "\n",
    "X_train, X_test, y_train, y_test = train_test_split(X, y, test_size=0.2, random_state=42)\n",
    "\n",
    "print(X_train.shape, y_train.shape)\n",
    "print(X_test.shape, y_test.shape)"
   ]
  },
  {
   "cell_type": "markdown",
   "metadata": {},
   "source": [
    "---\n",
    "## 모델 준비하기"
   ]
  },
  {
   "cell_type": "code",
   "execution_count": 4,
   "metadata": {},
   "outputs": [
    {
     "name": "stdout",
     "output_type": "stream",
     "text": [
      "W\n",
      " [0.97714097 0.13916528 0.77266035 0.93520886 0.35281244 0.83439224\n",
      " 0.0714512  0.99202975 0.23928545 0.72935694]\n",
      "b\n",
      " 0.15522876140121356\n"
     ]
    }
   ],
   "source": [
    "import numpy as np\n",
    "\n",
    "W = np.random.rand(10)\n",
    "b = np.random.rand()\n",
    "\n",
    "print('W\\n', W)\n",
    "print('b\\n', b)\n",
    "\n",
    "def model(X, W, b):\n",
    "    predictions = 0\n",
    "    for i in range(10):\n",
    "        predictions += X[:,i]*W[i]\n",
    "    predictions += b\n",
    "    return predictions"
   ]
  },
  {
   "cell_type": "markdown",
   "metadata": {},
   "source": [
    "---\n",
    "## loss 와 gradient 정의하기"
   ]
  },
  {
   "cell_type": "code",
   "execution_count": 5,
   "metadata": {},
   "outputs": [],
   "source": [
    "def MSE(a, b):\n",
    "    mse = ((a-b)**2).mean()\n",
    "    return mse\n",
    "\n",
    "def loss(X, W, b, y):\n",
    "    predictions = model(X,W,b)\n",
    "    L = MSE(predictions, y)\n",
    "    return L\n",
    "\n",
    "def gradient(X, W, b, y):\n",
    "    N = len(X)\n",
    "    y_pred = model(X, W, b)\n",
    "    \n",
    "    dW = 1/N * 2 * X.T.dot(y_pred-y)\n",
    "    db = 2 * (y_pred-y).mean()\n",
    "    return dW, db\n",
    "\n",
    "LEARNING_RATE = 0.03"
   ]
  },
  {
   "cell_type": "markdown",
   "metadata": {},
   "source": [
    "---\n",
    "## 모델 학습하기"
   ]
  },
  {
   "cell_type": "code",
   "execution_count": 6,
   "metadata": {},
   "outputs": [
    {
     "name": "stdout",
     "output_type": "stream",
     "text": [
      "iteration 100: Loss 5687.7347\n",
      "iteration 200: Loss 5484.4498\n",
      "iteration 300: Loss 5298.7789\n",
      "iteration 400: Loss 5129.7571\n",
      "iteration 500: Loss 4975.7522\n",
      "iteration 600: Loss 4835.2952\n",
      "iteration 700: Loss 4707.0657\n",
      "iteration 800: Loss 4589.8765\n",
      "iteration 900: Loss 4482.6600\n",
      "iteration 1000: Loss 4384.4561\n",
      "iteration 1100: Loss 4294.4013\n",
      "iteration 1200: Loss 4211.7185\n",
      "iteration 1300: Loss 4135.7087\n",
      "iteration 1400: Loss 4065.7428\n",
      "iteration 1500: Loss 4001.2543\n",
      "iteration 1600: Loss 3941.7334\n",
      "iteration 1700: Loss 3886.7206\n",
      "iteration 1800: Loss 3835.8024\n",
      "iteration 1900: Loss 3788.6059\n",
      "iteration 2000: Loss 3744.7950\n",
      "iteration 2100: Loss 3704.0667\n",
      "iteration 2200: Loss 3666.1478\n",
      "iteration 2300: Loss 3630.7917\n",
      "iteration 2400: Loss 3597.7757\n",
      "iteration 2500: Loss 3566.8988\n",
      "iteration 2600: Loss 3537.9794\n",
      "iteration 2700: Loss 3510.8534\n",
      "iteration 2800: Loss 3485.3723\n",
      "iteration 2900: Loss 3461.4017\n",
      "iteration 3000: Loss 3438.8202\n",
      "iteration 3100: Loss 3417.5173\n",
      "iteration 3200: Loss 3397.3935\n",
      "iteration 3300: Loss 3378.3579\n",
      "iteration 3400: Loss 3360.3284\n",
      "iteration 3500: Loss 3343.2302\n",
      "iteration 3600: Loss 3326.9955\n",
      "iteration 3700: Loss 3311.5624\n",
      "iteration 3800: Loss 3296.8746\n",
      "iteration 3900: Loss 3282.8808\n",
      "iteration 4000: Loss 3269.5341\n",
      "iteration 4100: Loss 3256.7918\n",
      "iteration 4200: Loss 3244.6148\n",
      "iteration 4300: Loss 3232.9673\n",
      "iteration 4400: Loss 3221.8163\n",
      "iteration 4500: Loss 3211.1319\n",
      "iteration 4600: Loss 3200.8864\n",
      "iteration 4700: Loss 3191.0542\n",
      "iteration 4800: Loss 3181.6121\n",
      "iteration 4900: Loss 3172.5383\n",
      "iteration 5000: Loss 3163.8129\n",
      "iteration 5100: Loss 3155.4174\n",
      "iteration 5200: Loss 3147.3348\n",
      "iteration 5300: Loss 3139.5493\n",
      "iteration 5400: Loss 3132.0460\n",
      "iteration 5500: Loss 3124.8113\n",
      "iteration 5600: Loss 3117.8324\n",
      "iteration 5700: Loss 3111.0975\n",
      "iteration 5800: Loss 3104.5954\n",
      "iteration 5900: Loss 3098.3158\n",
      "iteration 6000: Loss 3092.2488\n",
      "iteration 6100: Loss 3086.3854\n",
      "iteration 6200: Loss 3080.7170\n",
      "iteration 6300: Loss 3075.2355\n",
      "iteration 6400: Loss 3069.9332\n",
      "iteration 6500: Loss 3064.8031\n",
      "iteration 6600: Loss 3059.8382\n",
      "iteration 6700: Loss 3055.0323\n",
      "iteration 6800: Loss 3050.3792\n",
      "iteration 6900: Loss 3045.8731\n",
      "iteration 7000: Loss 3041.5086\n",
      "iteration 7100: Loss 3037.2806\n",
      "iteration 7200: Loss 3033.1839\n",
      "iteration 7300: Loss 3029.2140\n",
      "iteration 7400: Loss 3025.3664\n",
      "iteration 7500: Loss 3021.6367\n",
      "iteration 7600: Loss 3018.0208\n",
      "iteration 7700: Loss 3014.5149\n",
      "iteration 7800: Loss 3011.1152\n",
      "iteration 7900: Loss 3007.8181\n",
      "iteration 8000: Loss 3004.6201\n",
      "iteration 8100: Loss 3001.5181\n",
      "iteration 8200: Loss 2998.5087\n",
      "iteration 8300: Loss 2995.5891\n",
      "iteration 8400: Loss 2992.7561\n",
      "iteration 8500: Loss 2990.0071\n",
      "iteration 8600: Loss 2987.3394\n",
      "iteration 8700: Loss 2984.7503\n",
      "iteration 8800: Loss 2982.2373\n",
      "iteration 8900: Loss 2979.7981\n",
      "iteration 9000: Loss 2977.4303\n",
      "iteration 9100: Loss 2975.1316\n",
      "iteration 9200: Loss 2972.9000\n",
      "iteration 9300: Loss 2970.7333\n",
      "iteration 9400: Loss 2968.6294\n",
      "iteration 9500: Loss 2966.5866\n",
      "iteration 9600: Loss 2964.6028\n",
      "iteration 9700: Loss 2962.6763\n",
      "iteration 9800: Loss 2960.8053\n",
      "iteration 9900: Loss 2958.9881\n",
      "iteration 10000: Loss 2957.2232\n",
      "iteration 10100: Loss 2955.5088\n",
      "iteration 10200: Loss 2953.8435\n",
      "iteration 10300: Loss 2952.2259\n",
      "iteration 10400: Loss 2950.6543\n",
      "iteration 10500: Loss 2949.1276\n",
      "iteration 10600: Loss 2947.6443\n",
      "iteration 10700: Loss 2946.2031\n",
      "iteration 10800: Loss 2944.8028\n",
      "iteration 10900: Loss 2943.4422\n",
      "iteration 11000: Loss 2942.1200\n",
      "iteration 11100: Loss 2940.8352\n",
      "iteration 11200: Loss 2939.5866\n",
      "iteration 11300: Loss 2938.3732\n",
      "iteration 11400: Loss 2937.1939\n",
      "iteration 11500: Loss 2936.0477\n",
      "iteration 11600: Loss 2934.9337\n",
      "iteration 11700: Loss 2933.8509\n",
      "iteration 11800: Loss 2932.7983\n",
      "iteration 11900: Loss 2931.7752\n",
      "iteration 12000: Loss 2930.7806\n",
      "iteration 12100: Loss 2929.8137\n",
      "iteration 12200: Loss 2928.8737\n",
      "iteration 12300: Loss 2927.9598\n",
      "iteration 12400: Loss 2927.0712\n",
      "iteration 12500: Loss 2926.2073\n",
      "iteration 12600: Loss 2925.3673\n",
      "iteration 12700: Loss 2924.5505\n",
      "iteration 12800: Loss 2923.7562\n",
      "iteration 12900: Loss 2922.9839\n",
      "iteration 13000: Loss 2922.2328\n",
      "iteration 13100: Loss 2921.5023\n",
      "iteration 13200: Loss 2920.7919\n",
      "iteration 13300: Loss 2920.1009\n",
      "iteration 13400: Loss 2919.4289\n",
      "iteration 13500: Loss 2918.7753\n",
      "iteration 13600: Loss 2918.1395\n",
      "iteration 13700: Loss 2917.5210\n",
      "iteration 13800: Loss 2916.9194\n",
      "iteration 13900: Loss 2916.3342\n",
      "iteration 14000: Loss 2915.7648\n",
      "iteration 14100: Loss 2915.2109\n",
      "iteration 14200: Loss 2914.6721\n",
      "iteration 14300: Loss 2914.1477\n",
      "iteration 14400: Loss 2913.6376\n",
      "iteration 14500: Loss 2913.1412\n",
      "iteration 14600: Loss 2912.6582\n",
      "iteration 14700: Loss 2912.1882\n",
      "iteration 14800: Loss 2911.7309\n",
      "iteration 14900: Loss 2911.2858\n",
      "iteration 15000: Loss 2910.8526\n",
      "iteration 15100: Loss 2910.4311\n",
      "iteration 15200: Loss 2910.0208\n",
      "iteration 15300: Loss 2909.6215\n",
      "iteration 15400: Loss 2909.2328\n",
      "iteration 15500: Loss 2908.8545\n",
      "iteration 15600: Loss 2908.4862\n",
      "iteration 15700: Loss 2908.1277\n",
      "iteration 15800: Loss 2907.7788\n",
      "iteration 15900: Loss 2907.4391\n",
      "iteration 16000: Loss 2907.1083\n",
      "iteration 16100: Loss 2906.7863\n",
      "iteration 16200: Loss 2906.4728\n",
      "iteration 16300: Loss 2906.1676\n",
      "iteration 16400: Loss 2905.8704\n",
      "iteration 16500: Loss 2905.5810\n",
      "iteration 16600: Loss 2905.2992\n",
      "iteration 16700: Loss 2905.0248\n",
      "iteration 16800: Loss 2904.7576\n",
      "iteration 16900: Loss 2904.4973\n",
      "iteration 17000: Loss 2904.2439\n",
      "iteration 17100: Loss 2903.9970\n",
      "iteration 17200: Loss 2903.7566\n",
      "iteration 17300: Loss 2903.5225\n",
      "iteration 17400: Loss 2903.2944\n",
      "iteration 17500: Loss 2903.0722\n",
      "iteration 17600: Loss 2902.8558\n",
      "iteration 17700: Loss 2902.6450\n",
      "iteration 17800: Loss 2902.4396\n",
      "iteration 17900: Loss 2902.2396\n",
      "iteration 18000: Loss 2902.0446\n",
      "iteration 18100: Loss 2901.8547\n",
      "iteration 18200: Loss 2901.6697\n",
      "iteration 18300: Loss 2901.4894\n",
      "iteration 18400: Loss 2901.3138\n",
      "iteration 18500: Loss 2901.1426\n",
      "iteration 18600: Loss 2900.9758\n",
      "iteration 18700: Loss 2900.8133\n",
      "iteration 18800: Loss 2900.6549\n",
      "iteration 18900: Loss 2900.5005\n",
      "iteration 19000: Loss 2900.3501\n",
      "iteration 19100: Loss 2900.2035\n",
      "iteration 19200: Loss 2900.0606\n",
      "iteration 19300: Loss 2899.9213\n",
      "iteration 19400: Loss 2899.7855\n",
      "iteration 19500: Loss 2899.6531\n",
      "iteration 19600: Loss 2899.5241\n",
      "iteration 19700: Loss 2899.3984\n",
      "iteration 19800: Loss 2899.2758\n",
      "iteration 19900: Loss 2899.1563\n",
      "iteration 20000: Loss 2899.0397\n"
     ]
    },
    {
     "data": {
      "image/png": "[encoded data removed]",
      "text/plain": [
       "<Figure size 432x288 with 1 Axes>"
      ]
     },
     "metadata": {
      "needs_background": "light"
     },
     "output_type": "display_data"
    }
   ],
   "source": [
    "from matplotlib import pyplot as plt\n",
    "\n",
    "losses = []\n",
    "\n",
    "for i in range(1, 20001):\n",
    "    dW, db = gradient(X_train, W, b, y_train)\n",
    "    W -= LEARNING_RATE * dW\n",
    "    b -= LEARNING_RATE * db\n",
    "    L = loss(X, W, b, y)\n",
    "    losses.append(L)\n",
    "    if i % 100 == 0:\n",
    "        print('iteration %d: Loss %0.4f' %(i, L))\n",
    "\n",
    "plt.plot(losses)\n",
    "plt.show()"
   ]
  },
  {
   "cell_type": "markdown",
   "metadata": {},
   "source": [
    "---\n",
    "## 모델 성능 확인하기"
   ]
  },
  {
   "cell_type": "code",
   "execution_count": 7,
   "metadata": {},
   "outputs": [
    {
     "data": {
      "text/plain": [
       "2870.7851009396163"
      ]
     },
     "execution_count": 7,
     "metadata": {},
     "output_type": "execute_result"
    }
   ],
   "source": [
    "prediction = model(X_test, W, b)\n",
    "mse = loss(X_test, W, b, y_test)\n",
    "mse"
   ]
  },
  {
   "cell_type": "markdown",
   "metadata": {},
   "source": [
    "---\n",
    "## 예측 시각화하기"
   ]
  },
  {
   "cell_type": "code",
   "execution_count": 8,
   "metadata": {},
   "outputs": [
    {
     "data": {
      "text/plain": [
       "<function matplotlib.pyplot.show(*args, **kw)>"
      ]
     },
     "execution_count": 8,
     "metadata": {},
     "output_type": "execute_result"
    },
    {
     "data": {
      "image/png": "[encoded data removed]",
      "text/plain": [
       "<Figure size 432x288 with 1 Axes>"
      ]
     },
     "metadata": {
      "needs_background": "light"
     },
     "output_type": "display_data"
    }
   ],
   "source": [
    "plt.scatter(X_test[:, 0], y_test)\n",
    "plt.scatter(X_test[:, 0], prediction)\n",
    "plt.show"
   ]
  },
  {
   "cell_type": "markdown",
   "metadata": {},
   "source": [
    "---\n",
    "## Report"
   ]
  },
  {
   "cell_type": "markdown",
   "metadata": {},
   "source": [
    "1. 시각화해서 살펴본 결과 age, sex, s1, s2, s6은 target과 상관관계를 가지지 않았다\n",
    "2. s3은 target과 음의 상관관계를 가진다.\n",
    "3. loss값의 적정값을 알 수 없었다. (loss가 3000이 나와서 놀랐는데 합격컷이었음)"
   ]
  }
 ],
 "metadata": {
  "kernelspec": {
   "display_name": "aiffel",
   "language": "python",
   "name": "aiffel"
  },
  "language_info": {
   "codemirror_mode": {
    "name": "ipython",
    "version": 3
   },
   "file_extension": ".py",
   "mimetype": "text/x-python",
   "name": "python",
   "nbconvert_exporter": "python",
   "pygments_lexer": "ipython3",
   "version": "3.7.6"
  }
 },
 "nbformat": 4,
 "nbformat_minor": 4
}
