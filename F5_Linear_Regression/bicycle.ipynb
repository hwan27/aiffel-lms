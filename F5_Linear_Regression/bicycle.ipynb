{
 "cells": [
  {
   "cell_type": "markdown",
   "metadata": {},
   "source": [
    "## 데이터 가져오기"
   ]
  },
  {
   "cell_type": "code",
   "execution_count": 1,
   "metadata": {},
   "outputs": [
    {
     "data": {
      "text/html": [
       "<div>\n",
       "<style scoped>\n",
       "    .dataframe tbody tr th:only-of-type {\n",
       "        vertical-align: middle;\n",
       "    }\n",
       "\n",
       "    .dataframe tbody tr th {\n",
       "        vertical-align: top;\n",
       "    }\n",
       "\n",
       "    .dataframe thead th {\n",
       "        text-align: right;\n",
       "    }\n",
       "</style>\n",
       "<table border=\"1\" class=\"dataframe\">\n",
       "  <thead>\n",
       "    <tr style=\"text-align: right;\">\n",
       "      <th></th>\n",
       "      <th>datetime</th>\n",
       "      <th>season</th>\n",
       "      <th>holiday</th>\n",
       "      <th>workingday</th>\n",
       "      <th>weather</th>\n",
       "      <th>temp</th>\n",
       "      <th>atemp</th>\n",
       "      <th>humidity</th>\n",
       "      <th>windspeed</th>\n",
       "      <th>casual</th>\n",
       "      <th>registered</th>\n",
       "      <th>count</th>\n",
       "    </tr>\n",
       "  </thead>\n",
       "  <tbody>\n",
       "    <tr>\n",
       "      <th>0</th>\n",
       "      <td>2011-01-01 00:00:00</td>\n",
       "      <td>1</td>\n",
       "      <td>0</td>\n",
       "      <td>0</td>\n",
       "      <td>1</td>\n",
       "      <td>9.84</td>\n",
       "      <td>14.395</td>\n",
       "      <td>81</td>\n",
       "      <td>0.0</td>\n",
       "      <td>3</td>\n",
       "      <td>13</td>\n",
       "      <td>16</td>\n",
       "    </tr>\n",
       "    <tr>\n",
       "      <th>1</th>\n",
       "      <td>2011-01-01 01:00:00</td>\n",
       "      <td>1</td>\n",
       "      <td>0</td>\n",
       "      <td>0</td>\n",
       "      <td>1</td>\n",
       "      <td>9.02</td>\n",
       "      <td>13.635</td>\n",
       "      <td>80</td>\n",
       "      <td>0.0</td>\n",
       "      <td>8</td>\n",
       "      <td>32</td>\n",
       "      <td>40</td>\n",
       "    </tr>\n",
       "    <tr>\n",
       "      <th>2</th>\n",
       "      <td>2011-01-01 02:00:00</td>\n",
       "      <td>1</td>\n",
       "      <td>0</td>\n",
       "      <td>0</td>\n",
       "      <td>1</td>\n",
       "      <td>9.02</td>\n",
       "      <td>13.635</td>\n",
       "      <td>80</td>\n",
       "      <td>0.0</td>\n",
       "      <td>5</td>\n",
       "      <td>27</td>\n",
       "      <td>32</td>\n",
       "    </tr>\n",
       "    <tr>\n",
       "      <th>3</th>\n",
       "      <td>2011-01-01 03:00:00</td>\n",
       "      <td>1</td>\n",
       "      <td>0</td>\n",
       "      <td>0</td>\n",
       "      <td>1</td>\n",
       "      <td>9.84</td>\n",
       "      <td>14.395</td>\n",
       "      <td>75</td>\n",
       "      <td>0.0</td>\n",
       "      <td>3</td>\n",
       "      <td>10</td>\n",
       "      <td>13</td>\n",
       "    </tr>\n",
       "    <tr>\n",
       "      <th>4</th>\n",
       "      <td>2011-01-01 04:00:00</td>\n",
       "      <td>1</td>\n",
       "      <td>0</td>\n",
       "      <td>0</td>\n",
       "      <td>1</td>\n",
       "      <td>9.84</td>\n",
       "      <td>14.395</td>\n",
       "      <td>75</td>\n",
       "      <td>0.0</td>\n",
       "      <td>0</td>\n",
       "      <td>1</td>\n",
       "      <td>1</td>\n",
       "    </tr>\n",
       "  </tbody>\n",
       "</table>\n",
       "</div>"
      ],
      "text/plain": [
       "              datetime  season  holiday  workingday  weather  temp   atemp  \\\n",
       "0  2011-01-01 00:00:00       1        0           0        1  9.84  14.395   \n",
       "1  2011-01-01 01:00:00       1        0           0        1  9.02  13.635   \n",
       "2  2011-01-01 02:00:00       1        0           0        1  9.02  13.635   \n",
       "3  2011-01-01 03:00:00       1        0           0        1  9.84  14.395   \n",
       "4  2011-01-01 04:00:00       1        0           0        1  9.84  14.395   \n",
       "\n",
       "   humidity  windspeed  casual  registered  count  \n",
       "0        81        0.0       3          13     16  \n",
       "1        80        0.0       8          32     40  \n",
       "2        80        0.0       5          27     32  \n",
       "3        75        0.0       3          10     13  \n",
       "4        75        0.0       0           1      1  "
      ]
     },
     "execution_count": 1,
     "metadata": {},
     "output_type": "execute_result"
    }
   ],
   "source": [
    "import pandas as pd\n",
    "import os\n",
    "\n",
    "csv_path = os.getenv(\"HOME\") + \"/project/aiffel-lms/F5_Linear_Regression/train.csv\"\n",
    "df = pd.read_table(csv_path, sep=',')\n",
    "df.head()"
   ]
  },
  {
   "cell_type": "markdown",
   "metadata": {},
   "source": [
    "## 컬럼을 변환 및 데이터 개수 시각화하기"
   ]
  },
  {
   "cell_type": "code",
   "execution_count": 2,
   "metadata": {},
   "outputs": [
    {
     "name": "stdout",
     "output_type": "stream",
     "text": [
      "                  datetime  season  holiday  workingday  weather   temp  \\\n",
      "0      2011-01-01 00:00:00       1        0           0        1   9.84   \n",
      "1      2011-01-01 01:00:00       1        0           0        1   9.02   \n",
      "2      2011-01-01 02:00:00       1        0           0        1   9.02   \n",
      "3      2011-01-01 03:00:00       1        0           0        1   9.84   \n",
      "4      2011-01-01 04:00:00       1        0           0        1   9.84   \n",
      "...                    ...     ...      ...         ...      ...    ...   \n",
      "10881  2012-12-19 19:00:00       4        0           1        1  15.58   \n",
      "10882  2012-12-19 20:00:00       4        0           1        1  14.76   \n",
      "10883  2012-12-19 21:00:00       4        0           1        1  13.94   \n",
      "10884  2012-12-19 22:00:00       4        0           1        1  13.94   \n",
      "10885  2012-12-19 23:00:00       4        0           1        1  13.12   \n",
      "\n",
      "        atemp  humidity  windspeed  casual  registered  count  year  month  \\\n",
      "0      14.395        81     0.0000       3          13     16  2011      1   \n",
      "1      13.635        80     0.0000       8          32     40  2011      1   \n",
      "2      13.635        80     0.0000       5          27     32  2011      1   \n",
      "3      14.395        75     0.0000       3          10     13  2011      1   \n",
      "4      14.395        75     0.0000       0           1      1  2011      1   \n",
      "...       ...       ...        ...     ...         ...    ...   ...    ...   \n",
      "10881  19.695        50    26.0027       7         329    336  2012     12   \n",
      "10882  17.425        57    15.0013      10         231    241  2012     12   \n",
      "10883  15.910        61    15.0013       4         164    168  2012     12   \n",
      "10884  17.425        61     6.0032      12         117    129  2012     12   \n",
      "10885  16.665        66     8.9981       4          84     88  2012     12   \n",
      "\n",
      "       day  hour  minute  second  \n",
      "0        1     0       0       0  \n",
      "1        1     1       0       0  \n",
      "2        1     2       0       0  \n",
      "3        1     3       0       0  \n",
      "4        1     4       0       0  \n",
      "...    ...   ...     ...     ...  \n",
      "10881   19    19       0       0  \n",
      "10882   19    20       0       0  \n",
      "10883   19    21       0       0  \n",
      "10884   19    22       0       0  \n",
      "10885   19    23       0       0  \n",
      "\n",
      "[10886 rows x 18 columns]\n"
     ]
    }
   ],
   "source": [
    "datetime = pd.to_datetime(df['datetime'])\n",
    "\n",
    "dyear, dmonth, dday, dhour, dminute, dsecond  = datetime.dt.year, datetime.dt.month, datetime.dt.day, datetime.dt.hour, datetime.dt.minute, datetime.dt.second\n",
    "df[\"year\"], df[\"month\"], df[\"day\"], df[\"hour\"], df[\"minute\"], df[\"second\"] = dyear, dmonth, dday, dhour, dminute, dsecond\n",
    "\n",
    "print(df)"
   ]
  },
  {
   "cell_type": "code",
   "execution_count": 3,
   "metadata": {},
   "outputs": [
    {
     "data": {
      "text/plain": [
       "<matplotlib.axes._subplots.AxesSubplot at 0x7f62df468cd0>"
      ]
     },
     "execution_count": 3,
     "metadata": {},
     "output_type": "execute_result"
    },
    {
     "data": {
      "image/png": "[encoded data removed]",
      "text/plain": [
       "<Figure size 432x288 with 6 Axes>"
      ]
     },
     "metadata": {
      "needs_background": "light"
     },
     "output_type": "display_data"
    }
   ],
   "source": [
    "import seaborn as sns\n",
    "import matplotlib.pyplot as plt\n",
    "\n",
    "fig, axes = plt.subplots(2,3)\n",
    "axx = axes.flatten()\n",
    "sns.countplot(data=df, x='year', ax=axx[0]) \n",
    "sns.countplot(data=df, x='month', ax=axx[1])\n",
    "sns.countplot(data=df, x='day', ax=axx[2])\n",
    "sns.countplot(data=df, x='hour', ax=axx[3])\n",
    "sns.countplot(data=df, x='minute', ax=axx[4])\n",
    "sns.countplot(data=df, x='second', ax=axx[5])\n",
    "\n"
   ]
  },
  {
   "cell_type": "markdown",
   "metadata": {},
   "source": [
    "---\n",
    "## 컬럼 선택 및 train/test 데이터 분리"
   ]
  },
  {
   "cell_type": "code",
   "execution_count": 4,
   "metadata": {},
   "outputs": [
    {
     "name": "stdout",
     "output_type": "stream",
     "text": [
      "X\n",
      " [[ 1.  0.  1. ...  1.  1.  0.]\n",
      " [ 1.  0.  1. ...  1.  1.  1.]\n",
      " [ 1.  0.  1. ...  1.  1.  2.]\n",
      " ...\n",
      " [ 4.  1.  1. ... 12. 19. 21.]\n",
      " [ 4.  1.  1. ... 12. 19. 22.]\n",
      " [ 4.  1.  1. ... 12. 19. 23.]]\n",
      "y\n",
      " [ 16  40  32 ... 168 129  88]\n",
      "(8708, 8) (8708,)\n",
      "(2178, 8) (2178,)\n"
     ]
    }
   ],
   "source": [
    "X = df[['season', 'workingday',\t'weather', 'temp', 'humidity', 'month', 'day', 'hour']].values\n",
    "y = df['count'].values\n",
    "\n",
    "print('X\\n', X)\n",
    "print('y\\n', y)\n",
    "\n",
    "from sklearn.model_selection import train_test_split\n",
    "\n",
    "X_train, X_test, y_train, y_test = train_test_split(X, y, test_size=0.2, random_state=42)\n",
    "\n",
    "print(X_train.shape, y_train.shape)\n",
    "print(X_test.shape, y_test.shape)"
   ]
  },
  {
   "cell_type": "markdown",
   "metadata": {},
   "source": [
    "---\n",
    "## LinearRegression 모델 학습"
   ]
  },
  {
   "cell_type": "code",
   "execution_count": 5,
   "metadata": {},
   "outputs": [
    {
     "data": {
      "text/plain": [
       "LinearRegression()"
      ]
     },
     "execution_count": 5,
     "metadata": {},
     "output_type": "execute_result"
    }
   ],
   "source": [
    "from sklearn.linear_model import LinearRegression\n",
    "\n",
    "model = LinearRegression()\n",
    "\n",
    "model.fit(X_train, y_train)\n"
   ]
  },
  {
   "cell_type": "markdown",
   "metadata": {},
   "source": [
    "---\n",
    "## 학습된 모델로 X_test에 대한 예측값 출력 및 손실함수값 계산"
   ]
  },
  {
   "cell_type": "code",
   "execution_count": 6,
   "metadata": {},
   "outputs": [
    {
     "name": "stdout",
     "output_type": "stream",
     "text": [
      "mse: 21665.31870869094\n",
      "rmse: 147.191435582003\n"
     ]
    }
   ],
   "source": [
    "predictions = model.predict(X_test)\n",
    "predictions\n",
    "\n",
    "from sklearn.metrics import mean_squared_error\n",
    "\n",
    "mse = mean_squared_error(y_test, predictions)\n",
    "rmse = mse**0.5\n",
    "\n",
    "print('mse:', mse)\n",
    "print('rmse:', rmse)\n"
   ]
  },
  {
   "cell_type": "code",
   "execution_count": null,
   "metadata": {},
   "outputs": [],
   "source": [
    "\n"
   ]
  },
  {
   "cell_type": "markdown",
   "metadata": {},
   "source": [
    "---\n",
    "## x축은 temp or humidity로, y축은 count로 예측 결과 시각화하기"
   ]
  },
  {
   "cell_type": "code",
   "execution_count": 7,
   "metadata": {},
   "outputs": [
    {
     "name": "stdout",
     "output_type": "stream",
     "text": [
      "temp\n"
     ]
    },
    {
     "data": {
      "image/png": "[encoded data removed]",
      "text/plain": [
       "<Figure size 432x288 with 1 Axes>"
      ]
     },
     "metadata": {
      "needs_background": "light"
     },
     "output_type": "display_data"
    }
   ],
   "source": [
    "plt.scatter(X_test[:, 3], y_test, label=\"true\")\n",
    "plt.scatter(X_test[:, 3], predictions, label=\"pred\")\n",
    "plt.legend()\n",
    "\n",
    "print('temp')\n",
    "plt.show()"
   ]
  },
  {
   "cell_type": "code",
   "execution_count": 8,
   "metadata": {},
   "outputs": [
    {
     "name": "stdout",
     "output_type": "stream",
     "text": [
      "humidity\n"
     ]
    },
    {
     "data": {
      "image/png": "[encoded data removed]",
      "text/plain": [
       "<Figure size 432x288 with 1 Axes>"
      ]
     },
     "metadata": {
      "needs_background": "light"
     },
     "output_type": "display_data"
    }
   ],
   "source": [
    "plt.scatter(X_test[:, 4], y_test, label=\"true\")\n",
    "plt.scatter(X_test[:, 4], predictions, label=\"pred\")\n",
    "plt.legend()\n",
    "\n",
    "print('humidity')\n",
    "plt.show()"
   ]
  },
  {
   "cell_type": "code",
   "execution_count": null,
   "metadata": {},
   "outputs": [],
   "source": []
  }
 ],
 "metadata": {
  "kernelspec": {
   "display_name": "aiffel",
   "language": "python",
   "name": "aiffel"
  },
  "language_info": {
   "codemirror_mode": {
    "name": "ipython",
    "version": 3
   },
   "file_extension": ".py",
   "mimetype": "text/x-python",
   "name": "python",
   "nbconvert_exporter": "python",
   "pygments_lexer": "ipython3",
   "version": "3.7.6"
  }
 },
 "nbformat": 4,
 "nbformat_minor": 4
}
