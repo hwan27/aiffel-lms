{
 "cells": [
  {
   "cell_type": "markdown",
   "metadata": {},
   "source": [
    "### 0. 루브릭\n",
    "---\n",
    "- 3가지 이상의 모델이 성공적으로 시도됨\n",
    "- gensim의 유사단어 찾기를 활용하여 자체학습한 임베딩과 사전학습 임베딩을 적절히 분석함\n",
    "- 네이버 영화리뷰 데이터 감성분석 정확도를 90% 이상 달성함"
   ]
  },
  {
   "cell_type": "markdown",
   "metadata": {},
   "source": [
    "### 1. 데이터 준비와 확인\n",
    "---"
   ]
  },
  {
   "cell_type": "code",
   "execution_count": 1,
   "metadata": {},
   "outputs": [
    {
     "name": "stdout",
     "output_type": "stream",
     "text": [
      "(150000, 3)\n",
      "(50000, 3)\n"
     ]
    },
    {
     "data": {
      "text/html": [
       "<div>\n",
       "<style scoped>\n",
       "    .dataframe tbody tr th:only-of-type {\n",
       "        vertical-align: middle;\n",
       "    }\n",
       "\n",
       "    .dataframe tbody tr th {\n",
       "        vertical-align: top;\n",
       "    }\n",
       "\n",
       "    .dataframe thead th {\n",
       "        text-align: right;\n",
       "    }\n",
       "</style>\n",
       "<table border=\"1\" class=\"dataframe\">\n",
       "  <thead>\n",
       "    <tr style=\"text-align: right;\">\n",
       "      <th></th>\n",
       "      <th>id</th>\n",
       "      <th>document</th>\n",
       "      <th>label</th>\n",
       "    </tr>\n",
       "  </thead>\n",
       "  <tbody>\n",
       "    <tr>\n",
       "      <th>0</th>\n",
       "      <td>9976970</td>\n",
       "      <td>아 더빙.. 진짜 짜증나네요 목소리</td>\n",
       "      <td>0</td>\n",
       "    </tr>\n",
       "    <tr>\n",
       "      <th>1</th>\n",
       "      <td>3819312</td>\n",
       "      <td>흠...포스터보고 초딩영화줄....오버연기조차 가볍지 않구나</td>\n",
       "      <td>1</td>\n",
       "    </tr>\n",
       "    <tr>\n",
       "      <th>2</th>\n",
       "      <td>10265843</td>\n",
       "      <td>너무재밓었다그래서보는것을추천한다</td>\n",
       "      <td>0</td>\n",
       "    </tr>\n",
       "    <tr>\n",
       "      <th>3</th>\n",
       "      <td>9045019</td>\n",
       "      <td>교도소 이야기구먼 ..솔직히 재미는 없다..평점 조정</td>\n",
       "      <td>0</td>\n",
       "    </tr>\n",
       "    <tr>\n",
       "      <th>4</th>\n",
       "      <td>6483659</td>\n",
       "      <td>사이몬페그의 익살스런 연기가 돋보였던 영화!스파이더맨에서 늙어보이기만 했던 커스틴 ...</td>\n",
       "      <td>1</td>\n",
       "    </tr>\n",
       "  </tbody>\n",
       "</table>\n",
       "</div>"
      ],
      "text/plain": [
       "         id                                           document  label\n",
       "0   9976970                                아 더빙.. 진짜 짜증나네요 목소리      0\n",
       "1   3819312                  흠...포스터보고 초딩영화줄....오버연기조차 가볍지 않구나      1\n",
       "2  10265843                                  너무재밓었다그래서보는것을추천한다      0\n",
       "3   9045019                      교도소 이야기구먼 ..솔직히 재미는 없다..평점 조정      0\n",
       "4   6483659  사이몬페그의 익살스런 연기가 돋보였던 영화!스파이더맨에서 늙어보이기만 했던 커스틴 ...      1"
      ]
     },
     "execution_count": 1,
     "metadata": {},
     "output_type": "execute_result"
    }
   ],
   "source": [
    "import pandas as pd\n",
    "import urllib.request\n",
    "%matplotlib inline\n",
    "import matplotlib.pyplot as plt\n",
    "import re\n",
    "from konlpy.tag import Okt\n",
    "from tensorflow import keras\n",
    "from tensorflow.keras.preprocessing.text import Tokenizer\n",
    "import numpy as np\n",
    "from tensorflow.keras.preprocessing.sequence import pad_sequences\n",
    "from collections import Counter\n",
    "\n",
    "# 데이터를 읽어봅시다. \n",
    "train_data = pd.read_table('~/project/aiffel-lms/E9_Embedding/ratings_train.txt')\n",
    "test_data = pd.read_table('~/project/aiffel-lms/E9_Embedding/ratings_test.txt')\n",
    "\n",
    "print(train_data.shape)\n",
    "print(test_data.shape)\n",
    "\n",
    "train_data.head()"
   ]
  },
  {
   "cell_type": "markdown",
   "metadata": {},
   "source": [
    "### 2. 데이터로더 구성\n",
    "---"
   ]
  },
  {
   "cell_type": "markdown",
   "metadata": {},
   "source": [
    "실습때 다루었던 IMDB 데이터셋은 텍스트를 가공하여 imdb.data_loader() 메소드를 호출하면 숫자 인덱스로 변환된 텍스트와 word_to_index 딕셔너리까지 친절하게 제공합니다. 그러나 이번에 다루게 될 nsmc 데이터셋은 전혀 가공되지 않은 텍스트 파일로 이루어져 있습니다. 이것을 읽어서 imdb.data_loader()와 동일하게 동작하는 자신만의 data_loader를 만들어 보는 것으로 시작합니다. data_loader 안에서는 다음을 수행해야 합니다.\n",
    "\n",
    "- 데이터의 중복 제거\n",
    "- NaN 결측치 제거\n",
    "- 한국어 토크나이저로 토큰화\n",
    "- 불용어(Stopwords) 제거\n",
    "- 사전word_to_index 구성\n",
    "- 텍스트 스트링을 사전 인덱스 스트링으로 변환\n",
    "- X_train, y_train, X_test, y_test, word_to_index 리턴"
   ]
  },
  {
   "cell_type": "code",
   "execution_count": 2,
   "metadata": {},
   "outputs": [],
   "source": [
    "from konlpy.tag import Mecab\n",
    "tokenizer = Mecab()\n",
    "stopwords = ['의','가','이','은','들','는','좀','잘','걍','과','도','를','으로','자','에','와','한','하다']\n",
    "\n",
    "def load_data(train_data, test_data, num_words=10000):\n",
    "    train_data.drop_duplicates(subset=['document'], inplace=True)\n",
    "    train_data = train_data.dropna(how = 'any') \n",
    "    test_data.drop_duplicates(subset=['document'], inplace=True)\n",
    "    test_data = test_data.dropna(how = 'any') \n",
    "\n",
    "    X_train = []\n",
    "    for sentence in train_data['document']:\n",
    "        temp_X = tokenizer.morphs(sentence) # 토큰화\n",
    "        temp_X = [word for word in temp_X if not word in stopwords] # 불용어 제거\n",
    "        X_train.append(temp_X)\n",
    "\n",
    "    X_test = []\n",
    "    for sentence in test_data['document']:\n",
    "        temp_X = tokenizer.morphs(sentence) # 토큰화\n",
    "        temp_X = [word for word in temp_X if not word in stopwords] # 불용어 제거\n",
    "        X_test.append(temp_X)\n",
    "\n",
    "    words = np.concatenate(X_train).tolist()\n",
    "    counter = Counter(words)\n",
    "    counter = counter.most_common(10000-4)\n",
    "    vocab = ['<PAD>', '<BOS>', '<UNK>', '<UNUSED>'] + [key for key, _ in counter]\n",
    "    word_to_index = {word:index for index, word in enumerate(vocab)}\n",
    "\n",
    "    def wordlist_to_indexlist(wordlist):\n",
    "        return [word_to_index[word] if word in word_to_index else word_to_index['<UNK>'] for word in wordlist]\n",
    "\n",
    "    X_train = list(map(wordlist_to_indexlist, X_train))\n",
    "    X_test = list(map(wordlist_to_indexlist, X_test))\n",
    "\n",
    "    return X_train, np.array(list(train_data['label'])), X_test, np.array(list(test_data['label'])), word_to_index\n",
    "\n",
    "X_train, y_train, X_test, y_test, word_to_index = load_data(train_data, test_data)"
   ]
  },
  {
   "cell_type": "code",
   "execution_count": 3,
   "metadata": {},
   "outputs": [],
   "source": [
    "index_to_word = {index:word for word, index in word_to_index.items()}"
   ]
  },
  {
   "cell_type": "code",
   "execution_count": 4,
   "metadata": {},
   "outputs": [],
   "source": [
    "# 문장 1개를 활용할 딕셔너리와 함께 주면, 단어 인덱스 리스트 벡터로 변환해 주는 함수입니다. \n",
    "# 단, 모든 문장은 <BOS>로 시작하는 것으로 합니다. \n",
    "def get_encoded_sentence(sentence, word_to_index):\n",
    "    return [word_to_index['<BOS>']]+[word_to_index[word] if word in word_to_index else word_to_index['<UNK>'] for word in sentence.split()]\n",
    "\n",
    "# 여러 개의 문장 리스트를 한꺼번에 단어 인덱스 리스트 벡터로 encode해 주는 함수입니다. \n",
    "def get_encoded_sentences(sentences, word_to_index):\n",
    "    return [get_encoded_sentence(sentence, word_to_index) for sentence in sentences]\n",
    "\n",
    "# 숫자 벡터로 encode된 문장을 원래대로 decode하는 함수입니다. \n",
    "def get_decoded_sentence(encoded_sentence, index_to_word):\n",
    "    return ' '.join(index_to_word[index] if index in index_to_word else '<UNK>' for index in encoded_sentence[1:])  #[1:]를 통해 <BOS>를 제외\n",
    "\n",
    "# 여러개의 숫자 벡터로 encode된 문장을 한꺼번에 원래대로 decode하는 함수입니다. \n",
    "def get_decoded_sentences(encoded_sentences, index_to_word):\n",
    "    return [get_decoded_sentence(encoded_sentence, index_to_word) for encoded_sentence in encoded_sentences]\n"
   ]
  },
  {
   "cell_type": "markdown",
   "metadata": {},
   "source": [
    "### 3) 모델구성을 위한 데이터 분석 및 가공\n",
    "---\n",
    "- 데이터셋 내 문장 길이 분포\n",
    "- 적절한 최대 문장 길이 지정\n",
    "- keras.preprocessing.sequence.pad_sequences 을 활용한 패딩 추가"
   ]
  },
  {
   "cell_type": "code",
   "execution_count": 5,
   "metadata": {},
   "outputs": [
    {
     "name": "stdout",
     "output_type": "stream",
     "text": [
      "문장길이 평균: 15.969376315021577\n",
      "문장길이 최대: 116\n",
      "문장길이 표준편차: 12.843535456326455\n",
      "패딩문장 최대길이: 41\n",
      "전체 문장의 93.42988343341575%가 maxlen 설정 이내에 포함됩니다\n"
     ]
    }
   ],
   "source": [
    "total_data_text = list(X_train) + list(X_test)\n",
    "\n",
    "num_tokens = [len(tokens) for tokens in total_data_text]\n",
    "num_tokens = np.array(num_tokens)\n",
    "\n",
    "print('문장길이 평균:', np.mean(num_tokens))\n",
    "print('문장길이 최대:', np.max(num_tokens))\n",
    "print('문장길이 표준편차:', np.std(num_tokens))\n",
    "\n",
    "max_tokens = np.mean(num_tokens) + 2 * np.std(num_tokens)\n",
    "maxlen = int(max_tokens)\n",
    "\n",
    "print('패딩문장 최대길이:', maxlen)\n",
    "print('전체 문장의 {}%가 maxlen 설정 이내에 포함됩니다'.format(np.sum(num_tokens < max_tokens)/len(num_tokens) * 100))"
   ]
  },
  {
   "cell_type": "code",
   "execution_count": 6,
   "metadata": {},
   "outputs": [
    {
     "name": "stdout",
     "output_type": "stream",
     "text": [
      "(146182, 41)\n",
      "(146182,)\n"
     ]
    }
   ],
   "source": [
    "x_train = keras.preprocessing.sequence.pad_sequences(X_train, value=word_to_index['<PAD>'], \n",
    "                                                    padding='pre', maxlen=maxlen)\n",
    "x_test = keras.preprocessing.sequence.pad_sequences(X_test, value=word_to_index['<PAD>'], \n",
    "                                                    padding='pre', maxlen=maxlen)\n",
    "\n",
    "print(x_train.shape)\n",
    "print(y_train.shape)"
   ]
  },
  {
   "cell_type": "markdown",
   "metadata": {},
   "source": [
    "### 4) 모델구성 및 validation set 구성\n",
    "---\n",
    "모델은 3가지 이상 다양하게 구성하여 실험해 보세요.\n",
    "\n"
   ]
  },
  {
   "cell_type": "code",
   "execution_count": 7,
   "metadata": {},
   "outputs": [
    {
     "name": "stdout",
     "output_type": "stream",
     "text": [
      "(86182, 41)\n",
      "(86182,)\n"
     ]
    }
   ],
   "source": [
    "# validation set 10000건 분리\n",
    "x_val = x_train[:60000]   \n",
    "y_val = y_train[:60000]\n",
    "\n",
    "# validation set을 제외한 나머지 15000건\n",
    "partial_x_train = x_train[60000:]  \n",
    "partial_y_train = y_train[60000:]\n",
    "\n",
    "print(partial_x_train.shape)\n",
    "print(partial_y_train.shape)"
   ]
  },
  {
   "cell_type": "markdown",
   "metadata": {},
   "source": [
    "### 모델 1"
   ]
  },
  {
   "cell_type": "code",
   "execution_count": 8,
   "metadata": {},
   "outputs": [
    {
     "name": "stdout",
     "output_type": "stream",
     "text": [
      "Model: \"sequential\"\n",
      "_________________________________________________________________\n",
      "Layer (type)                 Output Shape              Param #   \n",
      "=================================================================\n",
      "embedding (Embedding)        (None, None, 32)          320000    \n",
      "_________________________________________________________________\n",
      "lstm (LSTM)                  (None, 32)                8320      \n",
      "_________________________________________________________________\n",
      "dense (Dense)                (None, 16)                528       \n",
      "_________________________________________________________________\n",
      "dense_1 (Dense)              (None, 1)                 17        \n",
      "=================================================================\n",
      "Total params: 328,865\n",
      "Trainable params: 328,865\n",
      "Non-trainable params: 0\n",
      "_________________________________________________________________\n"
     ]
    }
   ],
   "source": [
    "vocab_size = 10000\n",
    "word_vector_dim = 32\n",
    "\n",
    "model = keras.Sequential()\n",
    "\n",
    "model.add(keras.layers.Embedding(vocab_size, word_vector_dim, input_shape=(None,)))\n",
    "model.add(keras.layers.LSTM(32))\n",
    "model.add(keras.layers.Dense(16, activation='relu'))\n",
    "model.add(keras.layers.Dense(1, activation='sigmoid'))\n",
    "model.summary()\n"
   ]
  },
  {
   "cell_type": "markdown",
   "metadata": {},
   "source": [
    "### 모델 2"
   ]
  },
  {
   "cell_type": "code",
   "execution_count": 9,
   "metadata": {},
   "outputs": [
    {
     "name": "stdout",
     "output_type": "stream",
     "text": [
      "Model: \"sequential_1\"\n",
      "_________________________________________________________________\n",
      "Layer (type)                 Output Shape              Param #   \n",
      "=================================================================\n",
      "embedding_1 (Embedding)      (None, None, 32)          320000    \n",
      "_________________________________________________________________\n",
      "conv1d (Conv1D)              (None, None, 16)          3600      \n",
      "_________________________________________________________________\n",
      "max_pooling1d (MaxPooling1D) (None, None, 16)          0         \n",
      "_________________________________________________________________\n",
      "conv1d_1 (Conv1D)            (None, None, 16)          1808      \n",
      "_________________________________________________________________\n",
      "global_max_pooling1d (Global (None, 16)                0         \n",
      "_________________________________________________________________\n",
      "dense_2 (Dense)              (None, 8)                 136       \n",
      "_________________________________________________________________\n",
      "dense_3 (Dense)              (None, 1)                 9         \n",
      "=================================================================\n",
      "Total params: 325,553\n",
      "Trainable params: 325,553\n",
      "Non-trainable params: 0\n",
      "_________________________________________________________________\n"
     ]
    }
   ],
   "source": [
    "vocab_size = 10000  # 어휘 사전의 크기입니다(10개의 단어)\n",
    "word_vector_dim = 32  # 어휘 사전의 크기입니다(10개의 단어)\n",
    "\n",
    "model_2 = keras.Sequential()\n",
    "model_2.add(keras.layers.Embedding(vocab_size, word_vector_dim, input_shape=(None,)))\n",
    "model_2.add(keras.layers.Conv1D(16, 7, activation='relu'))\n",
    "model_2.add(keras.layers.MaxPooling1D(5))\n",
    "model_2.add(keras.layers.Conv1D(16, 7, activation='relu'))\n",
    "model_2.add(keras.layers.GlobalMaxPooling1D())\n",
    "model_2.add(keras.layers.Dense(8, activation='relu'))\n",
    "model_2.add(keras.layers.Dense(1, activation='sigmoid'))  # 최종 출력은 긍정/부정을 나타내는 1dim 입니다.\n",
    "\n",
    "model_2.summary()\n"
   ]
  },
  {
   "cell_type": "markdown",
   "metadata": {},
   "source": [
    "### 모델 3"
   ]
  },
  {
   "cell_type": "code",
   "execution_count": 10,
   "metadata": {},
   "outputs": [
    {
     "name": "stdout",
     "output_type": "stream",
     "text": [
      "Model: \"sequential_2\"\n",
      "_________________________________________________________________\n",
      "Layer (type)                 Output Shape              Param #   \n",
      "=================================================================\n",
      "embedding_2 (Embedding)      (None, None, 32)          320000    \n",
      "_________________________________________________________________\n",
      "global_max_pooling1d_1 (Glob (None, 32)                0         \n",
      "_________________________________________________________________\n",
      "dense_4 (Dense)              (None, 8)                 264       \n",
      "_________________________________________________________________\n",
      "dense_5 (Dense)              (None, 1)                 9         \n",
      "=================================================================\n",
      "Total params: 320,273\n",
      "Trainable params: 320,273\n",
      "Non-trainable params: 0\n",
      "_________________________________________________________________\n"
     ]
    }
   ],
   "source": [
    "vocab_size = 10000  # 어휘 사전의 크기입니다(10개의 단어)\n",
    "word_vector_dim = 32  # 어휘 사전의 크기입니다(10개의 단어)\n",
    "\n",
    "model_3 = keras.Sequential()\n",
    "model_3.add(keras.layers.Embedding(vocab_size, word_vector_dim, input_shape=(None,)))\n",
    "model_3.add(keras.layers.GlobalMaxPooling1D())\n",
    "model_3.add(keras.layers.Dense(8, activation='relu'))\n",
    "model_3.add(keras.layers.Dense(1, activation='sigmoid'))  # 최종 출력은 긍정/부정을 나타내는 1dim 입니다.\n",
    "\n",
    "model_3.summary()"
   ]
  },
  {
   "cell_type": "markdown",
   "metadata": {},
   "source": [
    "### 5) 모델 훈련 개시\n",
    "--- "
   ]
  },
  {
   "cell_type": "markdown",
   "metadata": {},
   "source": [
    "### 모델 1"
   ]
  },
  {
   "cell_type": "code",
   "execution_count": 11,
   "metadata": {},
   "outputs": [
    {
     "name": "stdout",
     "output_type": "stream",
     "text": [
      "Epoch 1/5\n",
      "1347/1347 [==============================] - 8s 6ms/step - loss: 0.3994 - accuracy: 0.8178 - val_loss: 0.3465 - val_accuracy: 0.8479\n",
      "Epoch 2/5\n",
      "1347/1347 [==============================] - 8s 6ms/step - loss: 0.3170 - accuracy: 0.8635 - val_loss: 0.3421 - val_accuracy: 0.8505\n",
      "Epoch 3/5\n",
      "1347/1347 [==============================] - 7s 5ms/step - loss: 0.2768 - accuracy: 0.8816 - val_loss: 0.3381 - val_accuracy: 0.8542\n",
      "Epoch 4/5\n",
      "1347/1347 [==============================] - 7s 6ms/step - loss: 0.2407 - accuracy: 0.8987 - val_loss: 0.3496 - val_accuracy: 0.8526\n",
      "Epoch 5/5\n",
      "1347/1347 [==============================] - 8s 6ms/step - loss: 0.2113 - accuracy: 0.9125 - val_loss: 0.3805 - val_accuracy: 0.8515\n"
     ]
    }
   ],
   "source": [
    "model.compile(optimizer='adam',\n",
    "              loss='binary_crossentropy',\n",
    "              metrics=['accuracy'])\n",
    "              \n",
    "epochs=5  # 몇 epoch를 훈련하면 좋을지 결과를 보면서 바꾸어 봅시다. \n",
    "\n",
    "history = model.fit(partial_x_train,\n",
    "                    partial_y_train,\n",
    "                    epochs=epochs,\n",
    "                    batch_size=64,\n",
    "                    validation_data=(x_val, y_val),\n",
    "                    verbose=1)\n",
    "\n"
   ]
  },
  {
   "cell_type": "code",
   "execution_count": 12,
   "metadata": {},
   "outputs": [
    {
     "name": "stdout",
     "output_type": "stream",
     "text": [
      "1537/1537 - 3s - loss: 0.3844 - accuracy: 0.8474\n",
      "[0.38440510630607605, 0.8474479913711548]\n"
     ]
    }
   ],
   "source": [
    "results = model.evaluate(x_test,  y_test, verbose=2)\n",
    "\n",
    "print(results)"
   ]
  },
  {
   "cell_type": "code",
   "execution_count": 13,
   "metadata": {},
   "outputs": [
    {
     "name": "stdout",
     "output_type": "stream",
     "text": [
      "dict_keys(['loss', 'accuracy', 'val_loss', 'val_accuracy'])\n"
     ]
    }
   ],
   "source": [
    "history_dict = history.history\n",
    "print(history_dict.keys()) # epoch에 따른 그래프를 그려볼 수 있는 항목들"
   ]
  },
  {
   "cell_type": "markdown",
   "metadata": {},
   "source": [
    "### 모델 2"
   ]
  },
  {
   "cell_type": "code",
   "execution_count": 14,
   "metadata": {},
   "outputs": [
    {
     "name": "stdout",
     "output_type": "stream",
     "text": [
      "Epoch 1/5\n",
      "2694/2694 [==============================] - 17s 6ms/step - loss: 0.3895 - accuracy: 0.8178 - val_loss: 0.3316 - val_accuracy: 0.8553\n",
      "Epoch 2/5\n",
      "2694/2694 [==============================] - 12s 4ms/step - loss: 0.2749 - accuracy: 0.8857 - val_loss: 0.3345 - val_accuracy: 0.8548\n",
      "Epoch 3/5\n",
      "2694/2694 [==============================] - 11s 4ms/step - loss: 0.1973 - accuracy: 0.9229 - val_loss: 0.3766 - val_accuracy: 0.8444\n",
      "Epoch 4/5\n",
      "2694/2694 [==============================] - 11s 4ms/step - loss: 0.1300 - accuracy: 0.9525 - val_loss: 0.4568 - val_accuracy: 0.8447\n",
      "Epoch 5/5\n",
      "2694/2694 [==============================] - 11s 4ms/step - loss: 0.0921 - accuracy: 0.9675 - val_loss: 0.5273 - val_accuracy: 0.8404\n"
     ]
    }
   ],
   "source": [
    "model_2.compile(optimizer='adam',\n",
    "              loss='binary_crossentropy',\n",
    "              metrics=['accuracy'])\n",
    "              \n",
    "epochs=5  # 몇 epoch를 훈련하면 좋을지 결과를 보면서 바꾸어 봅시다. \n",
    "\n",
    "history_2 = model_2.fit(partial_x_train,\n",
    "                    partial_y_train,\n",
    "                    epochs=epochs,\n",
    "                    batch_size=32,\n",
    "                    validation_data=(x_val, y_val),\n",
    "                    verbose=1)\n",
    "\n"
   ]
  },
  {
   "cell_type": "code",
   "execution_count": 15,
   "metadata": {},
   "outputs": [
    {
     "name": "stdout",
     "output_type": "stream",
     "text": [
      "1537/1537 [==============================] - 4s 3ms/step - loss: 0.5386 - accuracy: 0.8379\n",
      "[0.5386026501655579, 0.8379274606704712]\n"
     ]
    }
   ],
   "source": [
    "results = model_2.evaluate(x_test,  y_test, verbose=1)\n",
    "\n",
    "print(results)"
   ]
  },
  {
   "cell_type": "code",
   "execution_count": 16,
   "metadata": {},
   "outputs": [
    {
     "name": "stdout",
     "output_type": "stream",
     "text": [
      "dict_keys(['loss', 'accuracy', 'val_loss', 'val_accuracy'])\n"
     ]
    }
   ],
   "source": [
    "history_dict_2 = history_2.history\n",
    "print(history_dict_2.keys()) # epoch에 따른 그래프를 그려볼 수 있는 항목들"
   ]
  },
  {
   "cell_type": "markdown",
   "metadata": {},
   "source": [
    "### 모델 3"
   ]
  },
  {
   "cell_type": "code",
   "execution_count": 17,
   "metadata": {},
   "outputs": [
    {
     "name": "stdout",
     "output_type": "stream",
     "text": [
      "Epoch 1/5\n",
      "1347/1347 [==============================] - 5s 4ms/step - loss: 0.4357 - accuracy: 0.8078 - val_loss: 0.3566 - val_accuracy: 0.8429\n",
      "Epoch 2/5\n",
      "1347/1347 [==============================] - 6s 4ms/step - loss: 0.3150 - accuracy: 0.8663 - val_loss: 0.3508 - val_accuracy: 0.8471\n",
      "Epoch 3/5\n",
      "1347/1347 [==============================] - 5s 4ms/step - loss: 0.2700 - accuracy: 0.8900 - val_loss: 0.3612 - val_accuracy: 0.8469\n",
      "Epoch 4/5\n",
      "1347/1347 [==============================] - 5s 4ms/step - loss: 0.2342 - accuracy: 0.9070 - val_loss: 0.3798 - val_accuracy: 0.8437\n",
      "Epoch 5/5\n",
      "1347/1347 [==============================] - 5s 3ms/step - loss: 0.2042 - accuracy: 0.9211 - val_loss: 0.4045 - val_accuracy: 0.8417\n"
     ]
    }
   ],
   "source": [
    "model_3.compile(optimizer='adam',\n",
    "              loss='binary_crossentropy',\n",
    "              metrics=['accuracy'])\n",
    "              \n",
    "epochs=5  # 몇 epoch를 훈련하면 좋을지 결과를 보면서 바꾸어 봅시다. \n",
    "\n",
    "history_3 = model_3.fit(partial_x_train,\n",
    "                    partial_y_train,\n",
    "                    epochs=epochs,\n",
    "                    batch_size=64,\n",
    "                    validation_data=(x_val, y_val),\n",
    "                    verbose=1)"
   ]
  },
  {
   "cell_type": "code",
   "execution_count": 18,
   "metadata": {},
   "outputs": [
    {
     "name": "stdout",
     "output_type": "stream",
     "text": [
      "1537/1537 - 1s - loss: 0.4143 - accuracy: 0.8365\n",
      "[0.41429242491722107, 0.8364627361297607]\n"
     ]
    }
   ],
   "source": [
    "results = model_3.evaluate(x_test,  y_test, verbose=2)\n",
    "\n",
    "print(results)"
   ]
  },
  {
   "cell_type": "code",
   "execution_count": 19,
   "metadata": {},
   "outputs": [
    {
     "name": "stdout",
     "output_type": "stream",
     "text": [
      "dict_keys(['loss', 'accuracy', 'val_loss', 'val_accuracy'])\n"
     ]
    }
   ],
   "source": [
    "history_dict_3 = history_3.history\n",
    "print(history_dict_3.keys()) # epoch에 따른 그래프를 그려볼 수 있는 항목들"
   ]
  },
  {
   "cell_type": "markdown",
   "metadata": {},
   "source": [
    "### 6) Loss, Accuracy 그래프 시각화\n",
    "---"
   ]
  },
  {
   "cell_type": "code",
   "execution_count": 20,
   "metadata": {},
   "outputs": [
    {
     "data": {
      "image/png": "[encoded data removed]",
      "text/plain": [
       "<Figure size 432x288 with 1 Axes>"
      ]
     },
     "metadata": {
      "needs_background": "light"
     },
     "output_type": "display_data"
    }
   ],
   "source": [
    "import matplotlib.pyplot as plt\n",
    "\n",
    "acc = history_dict['accuracy']\n",
    "val_acc = history_dict['val_accuracy']\n",
    "loss = history_dict['loss']\n",
    "val_loss = history_dict['val_loss']\n",
    "\n",
    "epochs = range(1, len(acc) + 1)\n",
    "\n",
    "# \"bo\"는 \"파란색 점\"입니다\n",
    "plt.plot(epochs, loss, 'bo', label='Training loss')\n",
    "# b는 \"파란 실선\"입니다\n",
    "plt.plot(epochs, val_loss, 'b', label='Validation loss')\n",
    "plt.title('Training and validation loss')\n",
    "plt.xlabel('Epochs')\n",
    "plt.ylabel('Loss')\n",
    "plt.legend()\n",
    "\n",
    "plt.show()"
   ]
  },
  {
   "cell_type": "code",
   "execution_count": 21,
   "metadata": {},
   "outputs": [
    {
     "data": {
      "image/png": "[encoded data removed]",
      "text/plain": [
       "<Figure size 432x288 with 1 Axes>"
      ]
     },
     "metadata": {
      "needs_background": "light"
     },
     "output_type": "display_data"
    }
   ],
   "source": [
    "plt.clf()   # 그림을 초기화합니다\n",
    "\n",
    "plt.plot(epochs, acc, 'bo', label='Training acc')\n",
    "plt.plot(epochs, val_acc, 'b', label='Validation acc')\n",
    "plt.title('Training and validation accuracy')\n",
    "plt.xlabel('Epochs')\n",
    "plt.ylabel('Accuracy')\n",
    "plt.legend()\n",
    "\n",
    "plt.show()"
   ]
  },
  {
   "cell_type": "markdown",
   "metadata": {},
   "source": [
    "### 7) 학습된 Embedding 레이어 분석\n",
    "---"
   ]
  },
  {
   "cell_type": "code",
   "execution_count": 22,
   "metadata": {},
   "outputs": [
    {
     "name": "stdout",
     "output_type": "stream",
     "text": [
      "(10000, 32)\n"
     ]
    }
   ],
   "source": [
    "embedding_layer = model.layers[0]\n",
    "weights = embedding_layer.get_weights()[0]\n",
    "print(weights.shape)    # shape: (vocab_size, embedding_dim)"
   ]
  },
  {
   "cell_type": "code",
   "execution_count": 23,
   "metadata": {},
   "outputs": [],
   "source": [
    "import os\n",
    "\n",
    "# 학습한 Embedding 파라미터를 파일에 써서 저장합니다. \n",
    "word2vec_file_path = os.getenv('HOME')+'/project/aiffel-lms/E9_Embedding/word2vec_mine.txt'\n",
    "f = open(word2vec_file_path, 'w')\n",
    "f.write('{} {}\\n'.format(vocab_size-4, word_vector_dim))  # 몇개의 벡터를 얼마 사이즈로 기재할지 타이틀을 씁니다.\n",
    "\n",
    "# 단어 개수(에서 특수문자 4개는 제외하고)만큼의 워드 벡터를 파일에 기록합니다. \n",
    "vectors = model.get_weights()[0]\n",
    "for i in range(4,vocab_size):\n",
    "    f.write('{} {}\\n'.format(index_to_word[i], ' '.join(map(str, list(vectors[i, :])))))\n",
    "f.close()"
   ]
  },
  {
   "cell_type": "code",
   "execution_count": 24,
   "metadata": {},
   "outputs": [
    {
     "data": {
      "text/plain": [
       "array([-0.07976415,  0.03918341,  0.01170995,  0.02844974,  0.04866054,\n",
       "       -0.00688295,  0.06125975,  0.04118128, -0.05804366, -0.00932911,\n",
       "        0.04627677,  0.06171273, -0.00800136,  0.06663141, -0.04996091,\n",
       "        0.05542096, -0.00589052,  0.13882327, -0.00888363,  0.03896485,\n",
       "        0.01152777,  0.01735454, -0.02148382,  0.03666715, -0.0522636 ,\n",
       "       -0.02198328, -0.00842652,  0.01333505, -0.09706151, -0.01080363,\n",
       "       -0.07550645, -0.04805997], dtype=float32)"
      ]
     },
     "execution_count": 24,
     "metadata": {},
     "output_type": "execute_result"
    }
   ],
   "source": [
    "from gensim.models.keyedvectors import Word2VecKeyedVectors\n",
    "\n",
    "word_vectors = Word2VecKeyedVectors.load_word2vec_format(word2vec_file_path, binary=False)\n",
    "vector = word_vectors['영화']\n",
    "vector"
   ]
  },
  {
   "cell_type": "code",
   "execution_count": 25,
   "metadata": {},
   "outputs": [
    {
     "data": {
      "text/plain": [
       "[('가치', 0.8445396423339844),\n",
       " ('.???', 0.8192390203475952),\n",
       " ('리암', 0.8046497106552124),\n",
       " ('보여요', 0.7947922945022583),\n",
       " ('레슬리', 0.7900536060333252),\n",
       " ('먹이', 0.7884384989738464),\n",
       " ('렵니다', 0.7879118919372559),\n",
       " ('신화', 0.7811463475227356),\n",
       " ('씹', 0.777438759803772),\n",
       " ('쇼킹', 0.7765204906463623)]"
      ]
     },
     "execution_count": 25,
     "metadata": {},
     "output_type": "execute_result"
    }
   ],
   "source": [
    "word_vectors.similar_by_word(\"스릴러\")"
   ]
  },
  {
   "cell_type": "markdown",
   "metadata": {},
   "source": [
    "### 8) 한국어 Word2Vec 임베딩 활용하여 성능개선\n",
    "---\n",
    "한국어 Word2Vec은 다음 경로에서 구할 수 있습니다.\n",
    "\n",
    "https://github.com/Kyubyong/wordvectors"
   ]
  },
  {
   "cell_type": "code",
   "execution_count": 26,
   "metadata": {},
   "outputs": [
    {
     "name": "stdout",
     "output_type": "stream",
     "text": [
      "[-1.7577837  -1.0874279   1.5300866  -0.1115231  -0.37980682  1.4828517\n",
      "  1.3180419   0.11094163  0.7430535  -0.45461136  0.58841336  0.5763913\n",
      "  1.210707    1.3132795  -0.86962503 -0.18507595 -0.47440064  1.5100725\n",
      "  1.0965794   1.0600823  -0.27457932 -0.70003706  2.3117511   1.4944884\n",
      "  0.25560892 -2.866659   -0.28312334  0.34263936 -0.67723423  0.71714777\n",
      "  0.25549442  0.71732044 -0.13262457  0.01792452 -0.3184774   0.5271619\n",
      "  0.7561084  -2.1247065   1.061429   -0.21065854  0.6877343  -1.4956383\n",
      "  0.60346967 -2.6955893   0.37694618 -1.0164185   0.5430663   0.1200121\n",
      " -2.6315718   0.6216742   1.1583976  -2.5385962   1.326312   -0.10284371\n",
      " -0.0286147  -0.9132947   0.7647564   0.79202783 -1.8625957  -0.7418395\n",
      "  0.5884277  -0.9917992  -0.62114453  1.5367815  -0.6628939   0.6712103\n",
      "  0.12914915  0.21228492  0.9017655  -0.25083402  0.71500814  0.08644514\n",
      "  0.59993285  0.5766137   0.64095974  0.47888306 -2.8426213  -2.8502681\n",
      " -0.140544   -1.5917364   0.26691505  0.59476066  0.85868204  1.0322351\n",
      "  0.25671318 -0.34831643  1.752927   -0.21967097 -0.77352476  1.6995213\n",
      "  1.3996491  -0.9419836   0.85996443 -1.8812876  -2.5428605   0.39351937\n",
      " -1.2882805   0.56548136  1.006273    1.2217585   3.5744793   1.717737\n",
      "  1.6917158  -2.2176905  -0.3167447   1.2449     -1.255284   -2.1539652\n",
      " -1.096709   -0.74976933 -0.16744931 -1.8507233   2.1861036  -0.05389732\n",
      "  1.038033    0.33730686 -1.4647075  -1.264041    0.25509247  0.0622906\n",
      "  0.27852032 -0.52661455  0.8529616   0.58257025 -0.57665855  1.3990631\n",
      "  0.28237963  1.6566037   1.9912103   0.63888913  0.7732426  -1.3757724\n",
      "  0.17209321 -0.2433672   0.6328291   1.486971    2.3435354  -1.7037928\n",
      "  3.1944559  -1.9049606  -0.51309574  0.79082954 -1.4480313  -0.68631476\n",
      "  0.62008876 -2.3400223  -0.5785594   0.5270694   3.0061607  -1.3661511\n",
      " -2.7953272  -1.1794031  -0.27734265  0.71130925 -0.06620383  0.33663416\n",
      "  0.7204997  -0.923218   -2.1603265  -0.8904896  -1.4137112  -0.4189144\n",
      "  0.42834592  1.8104875  -1.8274456  -0.26700613  0.7743727   0.80048114\n",
      "  1.1333636   3.2746978  -0.0188297   0.9245737  -0.1246058  -0.5802861\n",
      " -0.01926111  1.05892    -1.4247856   1.0689156   2.5728712  -1.294882\n",
      "  0.74771804  1.3066916  -1.3213431   1.6501019  -0.12401557  0.96340084\n",
      "  0.26050946  1.3826336  -0.02877662  2.3431563  -0.26337367  1.9162012\n",
      " -0.77454543  1.7392642   0.08038983 -0.60325927  0.29508227  0.4812675\n",
      "  0.5271086   0.94171894]\n",
      "[('영화화하', 0.730082094669342), ('로맨스', 0.6989323496818542), ('코미디', 0.6905182600021362), ('로맨틱', 0.6693053245544434), ('다큐멘터리', 0.6563485264778137), ('영화', 0.6533163785934448), ('히치콕', 0.6332706212997437), ('무협', 0.6284650564193726), ('장편', 0.6283017992973328), ('미스터리', 0.6273175477981567)]\n"
     ]
    },
    {
     "name": "stderr",
     "output_type": "stream",
     "text": [
      "/home/aiffel0042/anaconda3/envs/aiffel/lib/python3.7/site-packages/ipykernel_launcher.py:6: DeprecationWarning: Call to deprecated `__getitem__` (Method will be removed in 4.0.0, use self.wv.__getitem__() instead).\n",
      "  \n"
     ]
    }
   ],
   "source": [
    "import gensim\n",
    "\n",
    "word2vec_path = os.getenv('HOME')+'/project/aiffel-lms/E9_Embedding/data/ko.bin'\n",
    "word2vec = gensim.models.Word2Vec.load(word2vec_path)\n",
    "\n",
    "vector = word2vec['영화']\n",
    "print(vector)\n",
    "\n",
    "result = word2vec.wv.most_similar(\"스릴러\")\n",
    "print(result)\n",
    "\n"
   ]
  },
  {
   "cell_type": "code",
   "execution_count": 27,
   "metadata": {},
   "outputs": [
    {
     "name": "stderr",
     "output_type": "stream",
     "text": [
      "/home/aiffel0042/anaconda3/envs/aiffel/lib/python3.7/site-packages/ipykernel_launcher.py:8: DeprecationWarning: Call to deprecated `__contains__` (Method will be removed in 4.0.0, use self.wv.__contains__() instead).\n",
      "  \n",
      "/home/aiffel0042/anaconda3/envs/aiffel/lib/python3.7/site-packages/ipykernel_launcher.py:9: DeprecationWarning: Call to deprecated `__getitem__` (Method will be removed in 4.0.0, use self.wv.__getitem__() instead).\n",
      "  if __name__ == '__main__':\n"
     ]
    }
   ],
   "source": [
    "vocab_size = 10000    # 어휘 사전의 크기입니다(10,000개의 단어)\n",
    "word_vector_dim = 200  # 워드 벡터의 차원수 (변경가능한 하이퍼파라미터)\n",
    "\n",
    "embedding_matrix = np.random.rand(vocab_size, word_vector_dim)\n",
    "\n",
    "# embedding_matrix에 Word2Vec 워드벡터를 단어 하나씩마다 차례차례 카피한다.\n",
    "for i in range(4,vocab_size):\n",
    "    if index_to_word[i] in word2vec:\n",
    "        embedding_matrix[i] = word2vec[index_to_word[i]]"
   ]
  },
  {
   "cell_type": "code",
   "execution_count": 28,
   "metadata": {},
   "outputs": [
    {
     "name": "stdout",
     "output_type": "stream",
     "text": [
      "Model: \"sequential_3\"\n",
      "_________________________________________________________________\n",
      "Layer (type)                 Output Shape              Param #   \n",
      "=================================================================\n",
      "embedding_3 (Embedding)      (None, 41, 200)           2000000   \n",
      "_________________________________________________________________\n",
      "lstm_1 (LSTM)                (None, 128)               168448    \n",
      "_________________________________________________________________\n",
      "dense_6 (Dense)              (None, 1)                 129       \n",
      "=================================================================\n",
      "Total params: 2,168,577\n",
      "Trainable params: 2,168,577\n",
      "Non-trainable params: 0\n",
      "_________________________________________________________________\n"
     ]
    }
   ],
   "source": [
    "from tensorflow.keras.initializers import Constant\n",
    "from tensorflow.keras.layers import Embedding, Dense, LSTM\n",
    "\n",
    "\n",
    "# 모델 구성\n",
    "model = keras.Sequential()\n",
    "model.add(keras.layers.Embedding(vocab_size, \n",
    "                                 word_vector_dim, \n",
    "                                 embeddings_initializer=Constant(embedding_matrix),  # 카피한 임베딩을 여기서 활용\n",
    "                                 input_length=maxlen, \n",
    "                                 trainable=True))\n",
    "model.add(LSTM(128))\n",
    "model.add(Dense(1, activation='sigmoid'))\n",
    "model.summary()"
   ]
  },
  {
   "cell_type": "code",
   "execution_count": 29,
   "metadata": {},
   "outputs": [
    {
     "name": "stdout",
     "output_type": "stream",
     "text": [
      "Epoch 1/10\n",
      "1347/1347 [==============================] - 22s 16ms/step - loss: 0.4098 - accuracy: 0.8101 - val_loss: 0.3468 - val_accuracy: 0.8496\n",
      "Epoch 2/10\n",
      "1347/1347 [==============================] - 21s 16ms/step - loss: 0.2968 - accuracy: 0.8742 - val_loss: 0.3198 - val_accuracy: 0.8627\n",
      "Epoch 3/10\n",
      "1347/1347 [==============================] - 21s 16ms/step - loss: 0.2466 - accuracy: 0.8980 - val_loss: 0.3269 - val_accuracy: 0.8636\n",
      "Epoch 4/10\n",
      "1347/1347 [==============================] - 22s 16ms/step - loss: 0.1988 - accuracy: 0.9203 - val_loss: 0.3595 - val_accuracy: 0.8607\n",
      "Epoch 5/10\n",
      "1347/1347 [==============================] - 22s 16ms/step - loss: 0.1550 - accuracy: 0.9399 - val_loss: 0.3691 - val_accuracy: 0.8597\n",
      "Epoch 6/10\n",
      "1347/1347 [==============================] - 21s 15ms/step - loss: 0.1140 - accuracy: 0.9578 - val_loss: 0.4542 - val_accuracy: 0.8532\n",
      "Epoch 7/10\n",
      "1347/1347 [==============================] - 21s 15ms/step - loss: 0.0820 - accuracy: 0.9701 - val_loss: 0.5015 - val_accuracy: 0.8540\n",
      "Epoch 8/10\n",
      "1347/1347 [==============================] - 21s 16ms/step - loss: 0.0597 - accuracy: 0.9789 - val_loss: 0.5944 - val_accuracy: 0.8510\n",
      "Epoch 9/10\n",
      "1347/1347 [==============================] - 21s 16ms/step - loss: 0.0483 - accuracy: 0.9831 - val_loss: 0.6545 - val_accuracy: 0.8496\n",
      "Epoch 10/10\n",
      "1347/1347 [==============================] - 22s 16ms/step - loss: 0.0366 - accuracy: 0.9873 - val_loss: 0.7193 - val_accuracy: 0.8522\n"
     ]
    }
   ],
   "source": [
    "model.compile(optimizer='adam',\n",
    "              loss='binary_crossentropy',\n",
    "              metrics=['accuracy'])\n",
    "              \n",
    "epochs=10  # 몇 epoch를 훈련하면 좋을지 결과를 보면서 바꾸어 봅시다. \n",
    "\n",
    "history = model.fit(partial_x_train,\n",
    "                    partial_y_train,\n",
    "                    epochs=epochs,\n",
    "                    batch_size=64,\n",
    "                    validation_data=(x_val, y_val),\n",
    "                    verbose=1)"
   ]
  },
  {
   "cell_type": "code",
   "execution_count": 30,
   "metadata": {},
   "outputs": [
    {
     "name": "stdout",
     "output_type": "stream",
     "text": [
      "1537/1537 - 3s - loss: 0.7142 - accuracy: 0.8524\n",
      "[0.714198887348175, 0.852350652217865]\n"
     ]
    }
   ],
   "source": [
    "# 테스트셋을 통한 모델 평가\n",
    "results = model.evaluate(x_test,  y_test, verbose=2)\n",
    "\n",
    "print(results)"
   ]
  },
  {
   "cell_type": "markdown",
   "metadata": {},
   "source": [
    "### Reporting\n",
    "---\n",
    "아무리 파라미터를 바꾸어봐도 val_accuracy가 학습에 따라 개선되지 않고 큰 차이가 없거나 오히려 떨어지는 모습을 보였는데 왜 그런지 알 수가 없었습니다....."
   ]
  },
  {
   "cell_type": "code",
   "execution_count": null,
   "metadata": {},
   "outputs": [],
   "source": []
  }
 ],
 "metadata": {
  "kernelspec": {
   "display_name": "aiffel",
   "language": "python",
   "name": "aiffel"
  },
  "language_info": {
   "codemirror_mode": {
    "name": "ipython",
    "version": 3
   },
   "file_extension": ".py",
   "mimetype": "text/x-python",
   "name": "python",
   "nbconvert_exporter": "python",
   "pygments_lexer": "ipython3",
   "version": "3.7.6"
  }
 },
 "nbformat": 4,
 "nbformat_minor": 4
}
