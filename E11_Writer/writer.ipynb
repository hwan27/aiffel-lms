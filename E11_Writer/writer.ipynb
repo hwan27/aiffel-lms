{
 "cells": [
  {
   "cell_type": "markdown",
   "metadata": {},
   "source": [
    "\n",
    "## 1. 데이터 다운로드\n",
    "---\n",
    "Song Lyrics 다운로드"
   ]
  },
  {
   "cell_type": "markdown",
   "metadata": {},
   "source": [
    "## 2. 데이터 읽어오기\n",
    "---\n",
    "glob 모듈을 사용해 모든 txt 파일을 읽어온 후, raw_corpus 리스트에 문장 단위로 저장"
   ]
  },
  {
   "cell_type": "code",
   "execution_count": 1,
   "metadata": {},
   "outputs": [
    {
     "name": "stdout",
     "output_type": "stream",
     "text": [
      "데이터 크기: 187088\n",
      "Example:\n",
      " ['The Cat in the Hat', 'By Dr. Seuss', 'The sun did not shine.', 'It was too wet to play.', 'So we sat in the house', 'All that cold cold wet day.', 'I sat there with Sally.', 'We sat there we two.', 'And I said How I wish', 'We had something to do!', 'Too wet to go out', 'And too cold to play ball.', 'So we sat in the house.', 'We did nothing at all.', 'So all we could do was to', 'Sit!', 'Sit!', 'Sit!', 'Sit!', 'And we did not like it.']\n"
     ]
    }
   ],
   "source": [
    "import glob\n",
    "import os\n",
    "\n",
    "txt_file_path = os.getenv('HOME') + '/project/aiffel-lms/E11_Writer/data/lyrics/*'\n",
    "txt_list = glob.glob(txt_file_path)\n",
    "\n",
    "raw_corpus = []\n",
    "\n",
    "for txt_file in txt_list:\n",
    "    with open(txt_file, 'r') as f:\n",
    "        raw = f.read().splitlines()\n",
    "        raw_corpus.extend(raw)\n",
    "\n",
    "print('데이터 크기:', len(raw_corpus))\n",
    "print('Example:\\n', raw_corpus[:20])"
   ]
  },
  {
   "cell_type": "markdown",
   "metadata": {},
   "source": [
    "## 3. 데이터 정제\n",
    "---\n",
    "preprocess_sentence()를 이용해 데이터를 정제한다   \n",
    "\n",
    "문장을 토큰화 했을 때, 토큰의 개수가 15개를 넘어가면 잘라낸다."
   ]
  },
  {
   "cell_type": "code",
   "execution_count": 2,
   "metadata": {},
   "outputs": [
    {
     "name": "stdout",
     "output_type": "stream",
     "text": [
      "<start> this is sample sentence . <end>\n"
     ]
    }
   ],
   "source": [
    "import re\n",
    "import numpy as np\n",
    "import tensorflow as tf\n",
    "import os\n",
    "\n",
    "def preprocess_sentence(sentence):\n",
    "    sentence = sentence.lower().strip()\n",
    "    \n",
    "    sentence = re.sub(r\"([?.!,¿])\", r\" \\1 \", sentence)  \n",
    "    sentence = re.sub(r'[\" \"]+',\" \", sentence)\n",
    "    sentence = re.sub(r\"[^a-zA-Z?.!,¿]+\", \" \", sentence) \n",
    "    \n",
    "    sentence = sentence.strip()\n",
    "    sentence = '<start> ' + sentence + ' <end>'\n",
    "    \n",
    "    return sentence\n",
    "\n",
    "print(preprocess_sentence(\"This @_is ;;;sample        sentence.\"))"
   ]
  },
  {
   "cell_type": "code",
   "execution_count": 3,
   "metadata": {},
   "outputs": [
    {
     "data": {
      "text/plain": [
       "['<start> the cat in the hat <end>',\n",
       " '<start> by dr . seuss <end>',\n",
       " '<start> the sun did not shine . <end>',\n",
       " '<start> it was too wet to play . <end>',\n",
       " '<start> so we sat in the house <end>',\n",
       " '<start> all that cold cold wet day . <end>',\n",
       " '<start> i sat there with sally . <end>',\n",
       " '<start> we sat there we two . <end>',\n",
       " '<start> and i said how i wish <end>',\n",
       " '<start> we had something to do ! <end>']"
      ]
     },
     "execution_count": 3,
     "metadata": {},
     "output_type": "execute_result"
    }
   ],
   "source": [
    "corpus = []\n",
    "\n",
    "for sentence in raw_corpus:\n",
    "    if len(sentence) == 0:continue\n",
    "    if len(sentence.split()) >= 15:continue\n",
    "        \n",
    "    corpus.append(preprocess_sentence(sentence))\n",
    "\n",
    "corpus[:10]"
   ]
  },
  {
   "cell_type": "markdown",
   "metadata": {},
   "source": [
    "## 4. 평가 데이터셋 분리\n",
    "---\n",
    "tokenize() 함수로 데이터를 Tensor로 변환한 후, sklearn 모듈의 train_test_split() 함수를 사용해 훈련 데이터와 평가 데이터를 분리한다.   \n",
    "단어장의 크기는 12,000이상으로 한다.   \n",
    "총 데이터의 20%를 평가 데이터 셋으로 사용한다.\n"
   ]
  },
  {
   "cell_type": "code",
   "execution_count": 4,
   "metadata": {},
   "outputs": [
    {
     "name": "stdout",
     "output_type": "stream",
     "text": [
      "[[   2    6  860 ...    0    0    0]\n",
      " [   2  119 2608 ...    0    0    0]\n",
      " [   2    6  298 ...    0    0    0]\n",
      " ...\n",
      " [   2  665   27 ...    0    0    0]\n",
      " [   2  665   27 ...    0    0    0]\n",
      " [   2  665   27 ...    0    0    0]] <keras_preprocessing.text.Tokenizer object at 0x7f74930ce250>\n",
      "[[    2     6   860    14     6  1261     3     0     0     0]\n",
      " [    2   119  2608    19 12983     3     0     0     0     0]\n",
      " [    2     6   298   167    68   548    19     3     0     0]]\n"
     ]
    }
   ],
   "source": [
    "def tokenize(corpus):\n",
    "    tokenizer = tf.keras.preprocessing.text.Tokenizer(\n",
    "        num_words=15000,\n",
    "        filters='',\n",
    "        oov_token='<unk>'    \n",
    "    )\n",
    "    tokenizer.fit_on_texts(corpus)\n",
    "    \n",
    "    tensor = tokenizer.texts_to_sequences(corpus)\n",
    "    tensor = tf.keras.preprocessing.sequence.pad_sequences(tensor, padding='post')\n",
    "    \n",
    "    print(tensor, tokenizer)\n",
    "    return tensor, tokenizer\n",
    "\n",
    "tensor, tokenizer = tokenize(corpus)\n",
    "\n",
    "print(tensor[:3, :10])"
   ]
  },
  {
   "cell_type": "code",
   "execution_count": 5,
   "metadata": {},
   "outputs": [
    {
     "name": "stdout",
     "output_type": "stream",
     "text": [
      "1 : <unk>\n",
      "2 : <start>\n",
      "3 : <end>\n",
      "4 : ,\n",
      "5 : i\n",
      "6 : the\n",
      "7 : you\n",
      "8 : and\n",
      "9 : a\n",
      "10 : to\n"
     ]
    }
   ],
   "source": [
    "for idx in tokenizer.index_word:\n",
    "    print(idx, \":\", tokenizer.index_word[idx])\n",
    "    \n",
    "    if idx >=10:break"
   ]
  },
  {
   "cell_type": "code",
   "execution_count": 6,
   "metadata": {},
   "outputs": [
    {
     "name": "stdout",
     "output_type": "stream",
     "text": [
      "[   2    6  860   14    6 1261    3    0    0    0    0    0    0    0\n",
      "    0    0    0    0    0    0    0    0    0    0    0    0    0    0\n",
      "    0    0    0    0]\n",
      "[   6  860   14    6 1261    3    0    0    0    0    0    0    0    0\n",
      "    0    0    0    0    0    0    0    0    0    0    0    0    0    0\n",
      "    0    0    0    0]\n"
     ]
    }
   ],
   "source": [
    "src_input = tensor[:, :-1]\n",
    "tgt_input = tensor[:, 1:]\n",
    "\n",
    "print(src_input[0])\n",
    "print(tgt_input[0])"
   ]
  },
  {
   "cell_type": "code",
   "execution_count": 7,
   "metadata": {},
   "outputs": [
    {
     "name": "stdout",
     "output_type": "stream",
     "text": [
      "Source Train: (133060, 32)\n",
      "Target Train: (133060, 32)\n"
     ]
    }
   ],
   "source": [
    "from sklearn.model_selection import train_test_split\n",
    "\n",
    "enc_train, enc_val, dec_train, dec_val = train_test_split(src_input, tgt_input, test_size=0.2, random_state=32)\n",
    "\n",
    "print('Source Train:', enc_train.shape)\n",
    "print('Target Train:', dec_train.shape)\n"
   ]
  },
  {
   "cell_type": "code",
   "execution_count": 8,
   "metadata": {},
   "outputs": [],
   "source": [
    "BUFFER_SIZE = len(src_input)\n",
    "BATCH_SIZE = 256\n",
    "steps_per_epoch = len(src_input) // BATCH_SIZE\n",
    "VOCAB_SIZE = tokenizer.num_words + 1\n",
    "\n",
    "train_dataset = tf.data.Dataset.from_tensor_slices((enc_train, dec_train)).shuffle(BUFFER_SIZE)\n",
    "train_dataset = train_dataset.batch(BATCH_SIZE, drop_remainder=True)\n",
    "\n",
    "test_dataset = tf.data.Dataset.from_tensor_slices((enc_val, dec_val)).shuffle(BUFFER_SIZE)\n",
    "test_dataset = test_dataset.batch(BATCH_SIZE, drop_remainder=True)"
   ]
  },
  {
   "cell_type": "markdown",
   "metadata": {},
   "source": [
    "## 5. 인공지능 만들기\n",
    "---\n",
    "모델의 Embedding Size와 Hidden Size를 조절하며 10 Epoch 안에 val_loss 값을 2.2 수준으로 줄일 수 있는 모델을 설계한다."
   ]
  },
  {
   "cell_type": "code",
   "execution_count": 9,
   "metadata": {},
   "outputs": [],
   "source": [
    "class TextGenerator(tf.keras.Model):\n",
    "    def __init__(self, vocab_size, embedding_size, hidden_size):\n",
    "        super(TextGenerator, self).__init__()\n",
    "        \n",
    "        self.embedding = tf.keras.layers.Embedding(vocab_size, embedding_size)\n",
    "        self.rnn_1 = tf.keras.layers.LSTM(hidden_size, return_sequences=True)\n",
    "        self.rnn_2 = tf.keras.layers.LSTM(hidden_size, return_sequences=True)\n",
    "        self.linear = tf.keras.layers.Dense(vocab_size)\n",
    "    \n",
    "    def call(self, x):\n",
    "        out = self.embedding(x)\n",
    "        out = self.rnn_1(out)\n",
    "        out = self.rnn_2(out)\n",
    "        out = self.linear(out)\n",
    "        \n",
    "        return out\n",
    "\n",
    "embedding_size = 256\n",
    "hidden_size = 1024\n",
    "model = TextGenerator(tokenizer.num_words+1, embedding_size, hidden_size)"
   ]
  },
  {
   "cell_type": "code",
   "execution_count": 10,
   "metadata": {},
   "outputs": [
    {
     "data": {
      "text/plain": [
       "<tf.Tensor: shape=(256, 32, 15001), dtype=float32, numpy=\n",
       "array([[[-7.64637953e-05,  6.24688982e-05,  1.09397413e-04, ...,\n",
       "          9.83872087e-06, -1.41840384e-04, -1.86359379e-04],\n",
       "        [-1.15518182e-04, -1.04031778e-05, -3.38971258e-05, ...,\n",
       "         -1.52637862e-04, -3.00909829e-04, -4.65017583e-05],\n",
       "        [-1.16822783e-04,  2.31268386e-05, -2.54478746e-05, ...,\n",
       "         -4.23823280e-04, -2.63981870e-04, -6.03224507e-05],\n",
       "        ...,\n",
       "        [-1.31535274e-03,  3.80153069e-04, -1.23258773e-03, ...,\n",
       "         -9.83388047e-04, -8.59262247e-04,  4.46289405e-03],\n",
       "        [-1.32649764e-03,  3.66144493e-04, -1.23833166e-03, ...,\n",
       "         -1.02334307e-03, -8.98969825e-04,  4.49541863e-03],\n",
       "        [-1.33282831e-03,  3.52975185e-04, -1.24374777e-03, ...,\n",
       "         -1.05662341e-03, -9.32204479e-04,  4.52210521e-03]],\n",
       "\n",
       "       [[-7.64637953e-05,  6.24688982e-05,  1.09397413e-04, ...,\n",
       "          9.83872087e-06, -1.41840384e-04, -1.86359379e-04],\n",
       "        [ 3.57111894e-05, -1.85553363e-05,  4.25602848e-05, ...,\n",
       "          1.26170155e-04, -2.07539008e-04, -3.80891841e-04],\n",
       "        [ 1.18581003e-04, -1.37781710e-04, -1.54385589e-06, ...,\n",
       "          3.27466296e-05, -4.38193267e-04, -4.24473168e-04],\n",
       "        ...,\n",
       "        [-1.15454383e-03,  4.62955009e-04, -1.13916176e-03, ...,\n",
       "         -9.20877908e-04, -7.67364923e-04,  4.49188286e-03],\n",
       "        [-1.18825026e-03,  4.41196520e-04, -1.15647004e-03, ...,\n",
       "         -9.76263778e-04, -8.20136687e-04,  4.52450663e-03],\n",
       "        [-1.21459644e-03,  4.20257216e-04, -1.17263629e-03, ...,\n",
       "         -1.02187588e-03, -8.65552225e-04,  4.55066608e-03]],\n",
       "\n",
       "       [[-7.64637953e-05,  6.24688982e-05,  1.09397413e-04, ...,\n",
       "          9.83872087e-06, -1.41840384e-04, -1.86359379e-04],\n",
       "        [-1.08097083e-04,  3.85333369e-05,  5.35032123e-05, ...,\n",
       "          1.45323938e-04, -1.74730056e-04, -3.90989881e-04],\n",
       "        [-2.12797109e-04, -1.87646612e-04,  1.49759770e-04, ...,\n",
       "          4.44875564e-04, -6.26623514e-05, -6.76130003e-04],\n",
       "        ...,\n",
       "        [-1.19467941e-03,  3.52796662e-04, -1.18066464e-03, ...,\n",
       "         -1.01446372e-03, -8.33998492e-04,  4.42541856e-03],\n",
       "        [-1.21900940e-03,  3.46045388e-04, -1.19402318e-03, ...,\n",
       "         -1.05167832e-03, -8.77140497e-04,  4.46342630e-03],\n",
       "        [-1.23772759e-03,  3.38003010e-04, -1.20649044e-03, ...,\n",
       "         -1.08202652e-03, -9.14048462e-04,  4.49481886e-03]],\n",
       "\n",
       "       ...,\n",
       "\n",
       "       [[-7.64637953e-05,  6.24688982e-05,  1.09397413e-04, ...,\n",
       "          9.83872087e-06, -1.41840384e-04, -1.86359379e-04],\n",
       "        [-2.03402902e-04,  5.65233786e-05,  3.32160678e-04, ...,\n",
       "          1.01009457e-04, -3.62002902e-04, -3.71994975e-04],\n",
       "        [-2.94988946e-04,  1.48292384e-04,  2.84417009e-04, ...,\n",
       "          2.68215284e-04, -6.42947329e-04, -3.65248183e-04],\n",
       "        ...,\n",
       "        [-1.29453582e-03,  3.40390427e-04, -1.24506361e-03, ...,\n",
       "         -1.04198640e-03, -7.61349977e-04,  4.39104671e-03],\n",
       "        [-1.30874966e-03,  3.33479140e-04, -1.25159393e-03, ...,\n",
       "         -1.08099007e-03, -8.14644794e-04,  4.43543028e-03],\n",
       "        [-1.31801562e-03,  3.26134148e-04, -1.25768105e-03, ...,\n",
       "         -1.11201603e-03, -8.60918954e-04,  4.47198423e-03]],\n",
       "\n",
       "       [[-7.64637953e-05,  6.24688982e-05,  1.09397413e-04, ...,\n",
       "          9.83872087e-06, -1.41840384e-04, -1.86359379e-04],\n",
       "        [ 1.79556970e-04,  1.46026548e-04,  8.46994590e-05, ...,\n",
       "          9.20986859e-05, -3.42549203e-04, -2.80376087e-04],\n",
       "        [ 3.80547222e-04,  6.07898546e-05,  1.76364963e-04, ...,\n",
       "         -1.83407363e-04, -1.14817856e-04, -2.93582969e-04],\n",
       "        ...,\n",
       "        [-1.10205635e-03,  3.85775144e-04, -1.23025675e-03, ...,\n",
       "         -7.73154083e-04, -6.84318773e-04,  4.23525600e-03],\n",
       "        [-1.14678382e-03,  3.74122843e-04, -1.23314757e-03, ...,\n",
       "         -8.48101859e-04, -7.44893507e-04,  4.30189073e-03],\n",
       "        [-1.18323939e-03,  3.62396095e-04, -1.23660115e-03, ...,\n",
       "         -9.11598268e-04, -7.97672430e-04,  4.35852492e-03]],\n",
       "\n",
       "       [[-7.64637953e-05,  6.24688982e-05,  1.09397413e-04, ...,\n",
       "          9.83872087e-06, -1.41840384e-04, -1.86359379e-04],\n",
       "        [ 8.48335112e-05,  1.48084509e-04,  1.72272485e-04, ...,\n",
       "          8.32827027e-06, -3.55690747e-04, -4.50870633e-04],\n",
       "        [ 3.17583472e-04,  2.10886792e-04,  3.19492246e-04, ...,\n",
       "          3.66297376e-04, -3.48586618e-04, -5.88713738e-04],\n",
       "        ...,\n",
       "        [-1.11829245e-03,  5.48435957e-04, -1.22140511e-03, ...,\n",
       "         -5.33731189e-04, -3.25489731e-04,  4.17704228e-03],\n",
       "        [-1.17546949e-03,  5.33369486e-04, -1.22519711e-03, ...,\n",
       "         -6.39521750e-04, -4.19340038e-04,  4.26141964e-03],\n",
       "        [-1.22261350e-03,  5.15017775e-04, -1.22835231e-03, ...,\n",
       "         -7.31784909e-04, -5.05783129e-04,  4.33134474e-03]]],\n",
       "      dtype=float32)>"
      ]
     },
     "execution_count": 10,
     "metadata": {},
     "output_type": "execute_result"
    }
   ],
   "source": [
    "for src_sample, tgt_sample in train_dataset.take(1):\n",
    "    break\n",
    "model(src_sample)"
   ]
  },
  {
   "cell_type": "code",
   "execution_count": 11,
   "metadata": {},
   "outputs": [
    {
     "name": "stdout",
     "output_type": "stream",
     "text": [
      "Model: \"text_generator\"\n",
      "_________________________________________________________________\n",
      "Layer (type)                 Output Shape              Param #   \n",
      "=================================================================\n",
      "embedding (Embedding)        multiple                  3840256   \n",
      "_________________________________________________________________\n",
      "lstm (LSTM)                  multiple                  5246976   \n",
      "_________________________________________________________________\n",
      "lstm_1 (LSTM)                multiple                  8392704   \n",
      "_________________________________________________________________\n",
      "dense (Dense)                multiple                  15376025  \n",
      "=================================================================\n",
      "Total params: 32,855,961\n",
      "Trainable params: 32,855,961\n",
      "Non-trainable params: 0\n",
      "_________________________________________________________________\n"
     ]
    }
   ],
   "source": [
    "model.summary()"
   ]
  },
  {
   "cell_type": "code",
   "execution_count": 12,
   "metadata": {},
   "outputs": [
    {
     "name": "stdout",
     "output_type": "stream",
     "text": [
      "Epoch 1/10\n",
      "520/520 [==============================] - 221s 426ms/step - loss: 1.7134 - val_loss: 1.4591\n",
      "Epoch 2/10\n",
      "520/520 [==============================] - 224s 431ms/step - loss: 1.4071 - val_loss: 1.3727\n",
      "Epoch 3/10\n",
      "520/520 [==============================] - 222s 426ms/step - loss: 1.3288 - val_loss: 1.3189\n",
      "Epoch 4/10\n",
      "520/520 [==============================] - 224s 431ms/step - loss: 1.2668 - val_loss: 1.2785\n",
      "Epoch 5/10\n",
      "520/520 [==============================] - 224s 431ms/step - loss: 1.2117 - val_loss: 1.2450\n",
      "Epoch 6/10\n",
      "520/520 [==============================] - 215s 413ms/step - loss: 1.1615 - val_loss: 1.2189\n",
      "Epoch 7/10\n",
      "520/520 [==============================] - 200s 386ms/step - loss: 1.1165 - val_loss: 1.1975\n",
      "Epoch 8/10\n",
      "520/520 [==============================] - 212s 408ms/step - loss: 1.0750 - val_loss: 1.1790\n",
      "Epoch 9/10\n",
      "520/520 [==============================] - 223s 430ms/step - loss: 1.0369 - val_loss: 1.1652\n",
      "Epoch 10/10\n",
      "520/520 [==============================] - 226s 434ms/step - loss: 1.0011 - val_loss: 1.1521\n"
     ]
    },
    {
     "data": {
      "text/plain": [
       "<tensorflow.python.keras.callbacks.History at 0x7f74912944d0>"
      ]
     },
     "execution_count": 12,
     "metadata": {},
     "output_type": "execute_result"
    }
   ],
   "source": [
    "optimizer = tf.keras.optimizers.Adam()\n",
    "#Loss\n",
    "loss = tf.keras.losses.SparseCategoricalCrossentropy(from_logits=True, reduction='none')\n",
    "\n",
    "model.compile(loss=loss, optimizer=optimizer)\n",
    "model.fit(x=enc_train, y=dec_train, validation_data=(enc_val, dec_val), batch_size=BATCH_SIZE, epochs=10)"
   ]
  },
  {
   "cell_type": "code",
   "execution_count": 13,
   "metadata": {},
   "outputs": [
    {
     "data": {
      "text/plain": [
       "'<start> i love you , i m better , i m better , i m better , i m better '"
      ]
     },
     "execution_count": 13,
     "metadata": {},
     "output_type": "execute_result"
    }
   ],
   "source": [
    "\n",
    "def generate_text(model, tokenizer, init_sentence='<start> i love', max_len=20):\n",
    "    \n",
    "    test_input = tokenizer.texts_to_sequences([init_sentence])\n",
    "    test_tensor = tf.convert_to_tensor(test_input, dtype=tf.int64)\n",
    "    end_token = tokenizer.word_index['<end>']\n",
    "    \n",
    "    while True:\n",
    "        predict = model(test_tensor)\n",
    "        predict_word = tf.argmax(tf.nn.softmax(predict, axis=-1), axis=-1)[:,-1]\n",
    "        \n",
    "        test_tensor = tf.concat([test_tensor, tf.expand_dims(predict_word, axis=0)], axis=-1)\n",
    "        \n",
    "        if predict_word.numpy()[0] == end_token:break\n",
    "        if test_tensor.shape[1] >= max_len:break\n",
    "    \n",
    "    generated = \"\"\n",
    "    \n",
    "    for word_index in test_tensor[0].numpy():\n",
    "        generated += tokenizer.index_word[word_index] + \" \"\n",
    "    \n",
    "    return generated\n",
    "\n",
    "generate_text(model, tokenizer, init_sentence='<start> i love', max_len=20)"
   ]
  },
  {
   "cell_type": "code",
   "execution_count": 14,
   "metadata": {},
   "outputs": [
    {
     "data": {
      "text/plain": [
       "'<start> i love you , i m better , i m better , i m better , i m better '"
      ]
     },
     "execution_count": 14,
     "metadata": {},
     "output_type": "execute_result"
    }
   ],
   "source": [
    "generate_text(model, tokenizer, init_sentence='<start> i love you', max_len=20)"
   ]
  },
  {
   "cell_type": "code",
   "execution_count": 15,
   "metadata": {},
   "outputs": [
    {
     "data": {
      "text/plain": [
       "'<start> i hate the way you lie <end> '"
      ]
     },
     "execution_count": 15,
     "metadata": {},
     "output_type": "execute_result"
    }
   ],
   "source": [
    "generate_text(model, tokenizer, init_sentence='<start> i hate', max_len=20)"
   ]
  },
  {
   "cell_type": "code",
   "execution_count": 16,
   "metadata": {},
   "outputs": [
    {
     "data": {
      "text/plain": [
       "'<start> if you re ready to make it <end> '"
      ]
     },
     "execution_count": 16,
     "metadata": {},
     "output_type": "execute_result"
    }
   ],
   "source": [
    "generate_text(model, tokenizer, init_sentence='<start> if you', max_len=20)"
   ]
  },
  {
   "cell_type": "code",
   "execution_count": 17,
   "metadata": {},
   "outputs": [
    {
     "data": {
      "text/plain": [
       "'<start> i wonder if you re in the mirror <end> '"
      ]
     },
     "execution_count": 17,
     "metadata": {},
     "output_type": "execute_result"
    }
   ],
   "source": [
    "generate_text(model, tokenizer, init_sentence='<start> i wonder', max_len=20)"
   ]
  },
  {
   "cell_type": "code",
   "execution_count": 18,
   "metadata": {},
   "outputs": [
    {
     "data": {
      "text/plain": [
       "'<start> if you want it , baby <end> '"
      ]
     },
     "execution_count": 18,
     "metadata": {},
     "output_type": "execute_result"
    }
   ],
   "source": [
    "generate_text(model, tokenizer, init_sentence='<start> if you want', max_len=20)"
   ]
  },
  {
   "cell_type": "code",
   "execution_count": 19,
   "metadata": {},
   "outputs": [
    {
     "data": {
      "text/plain": [
       "'<start> if you are sad <end> '"
      ]
     },
     "execution_count": 19,
     "metadata": {},
     "output_type": "execute_result"
    }
   ],
   "source": [
    "generate_text(model, tokenizer, init_sentence='<start> if you are sad', max_len=20)"
   ]
  },
  {
   "cell_type": "markdown",
   "metadata": {},
   "source": [
    "### Report\n",
    "---\n",
    "토큰 문장의 길이를 15로 제한할 때, 직접 자르지 않고 tensor = tf.keras.preprocessing.sequence.pad_sequences(tensor, padding='post') 에서 maxlen을 15로 줬을 때 제대로 학습되지 않는 모습을 보였다.\n",
    "\n",
    "그리고 I love you 라는 문장을 주자 I'm better 를 반복하는데 왜 그러는지....? "
   ]
  }
 ],
 "metadata": {
  "kernelspec": {
   "display_name": "aiffel",
   "language": "python",
   "name": "aiffel"
  },
  "language_info": {
   "codemirror_mode": {
    "name": "ipython",
    "version": 3
   },
   "file_extension": ".py",
   "mimetype": "text/x-python",
   "name": "python",
   "nbconvert_exporter": "python",
   "pygments_lexer": "ipython3",
   "version": "3.7.6"
  }
 },
 "nbformat": 4,
 "nbformat_minor": 4
}
