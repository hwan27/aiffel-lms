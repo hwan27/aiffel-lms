{
 "cells": [
  {
   "cell_type": "markdown",
   "metadata": {},
   "source": [
    "## **Dataset Resize**"
   ]
  },
  {
   "cell_type": "code",
   "execution_count": 1,
   "metadata": {},
   "outputs": [],
   "source": [
    "from PIL import Image\n",
    "import os, glob\n",
    "\n",
    "# 가위 리사이즈\n",
    "image_dir_path = os.getenv(\"HOME\") + \"/aiffel/rock_scissor_paper/scissor\"\n",
    "images=glob.glob(image_dir_path + \"/*.jpg\")  \n",
    "\n",
    "target_size=(28,28)\n",
    "\n",
    "for img in images:\n",
    "    old_img=Image.open(img)\n",
    "    new_img=old_img.resize(target_size,Image.ANTIALIAS)\n",
    "    new_img.save(img,\"JPEG\")\n",
    "    \n",
    "# 가위 test 리사이즈\n",
    "image_dir_path = os.getenv(\"HOME\") + \"/aiffel/rock_scissor_paper_test/scissor\"\n",
    "images=glob.glob(image_dir_path + \"/*.jpg\")  \n",
    "\n",
    "target_size=(28,28)\n",
    "\n",
    "for img in images:\n",
    "    old_img=Image.open(img)\n",
    "    new_img=old_img.resize(target_size,Image.ANTIALIAS)\n",
    "    new_img.save(img,\"JPEG\")\n",
    "\n",
    "# 바위 리사이즈\n",
    "image_dir_path = os.getenv(\"HOME\") + \"/aiffel/rock_scissor_paper/rock\"\n",
    "images=glob.glob(image_dir_path + \"/*.jpg\")  \n",
    " \n",
    "target_size=(28,28)\n",
    "\n",
    "for img in images:\n",
    "    old_img=Image.open(img)\n",
    "    new_img=old_img.resize(target_size,Image.ANTIALIAS)\n",
    "    new_img.save(img,\"JPEG\")\n",
    "\n",
    "# 바위 test 리사이즈\n",
    "image_dir_path = os.getenv(\"HOME\") + \"/aiffel/rock_scissor_paper_test/rock\"\n",
    "images=glob.glob(image_dir_path + \"/*.jpg\")  \n",
    "\n",
    "\n",
    "target_size=(28,28)\n",
    "\n",
    "for img in images:\n",
    "    old_img=Image.open(img)\n",
    "    new_img=old_img.resize(target_size,Image.ANTIALIAS)\n",
    "    new_img.save(img,\"JPEG\")\n",
    "    \n",
    "# 보 리사이즈\n",
    "image_dir_path = os.getenv(\"HOME\") + \"/aiffel/rock_scissor_paper/paper\"\n",
    "images=glob.glob(image_dir_path + \"/*.jpg\")  \n",
    "\n",
    "target_size=(28,28)\n",
    "\n",
    "for img in images:\n",
    "    old_img=Image.open(img)\n",
    "    new_img=old_img.resize(target_size,Image.ANTIALIAS)\n",
    "    new_img.save(img,\"JPEG\")\n",
    "\n",
    "# 보 test 리사이즈\n",
    "image_dir_path = os.getenv(\"HOME\") + \"/aiffel/rock_scissor_paper_test/paper\"\n",
    "images=glob.glob(image_dir_path + \"/*.jpg\")  \n",
    "\n",
    "\n",
    "target_size=(28,28)\n",
    "\n",
    "for img in images:\n",
    "    old_img=Image.open(img)\n",
    "    new_img=old_img.resize(target_size,Image.ANTIALIAS)\n",
    "    new_img.save(img,\"JPEG\")\n",
    "    "
   ]
  },
  {
   "cell_type": "markdown",
   "metadata": {},
   "source": [
    "## **Dataset 불러오기**"
   ]
  },
  {
   "cell_type": "code",
   "execution_count": 2,
   "metadata": {},
   "outputs": [
    {
     "name": "stdout",
     "output_type": "stream",
     "text": [
      "학습데이터(x_train)의 이미지 개수는 1747 입니다.\n",
      "시험데이터(x_test)의 이미지 개수는 300 입니다.\n",
      "x_train shape: (1747, 28, 28, 3)\n",
      "y_train shape: (1747,)\n",
      "x_test shape: (300, 28, 28, 3)\n",
      "y_test shape: (300,)\n"
     ]
    }
   ],
   "source": [
    "import numpy as np\n",
    "\n",
    "def load_data(img_path):\n",
    "    # 가위 : 0, 바위 : 1, 보 : 2\n",
    "    number_of_data=1747\n",
    "    img_size=28\n",
    "    color=3\n",
    "    \n",
    "    imgs=np.zeros(number_of_data*img_size*img_size*color,dtype=np.int32).reshape(number_of_data,img_size,img_size,color)\n",
    "    labels=np.zeros(number_of_data,dtype=np.int32)\n",
    "\n",
    "    idx=0\n",
    "    for file in glob.iglob(img_path+'/scissor/*.jpg'):\n",
    "        img = np.array(Image.open(file),dtype=np.int32)\n",
    "        imgs[idx,:,:,:]=img    # 데이터 영역에 이미지 행렬을 복사\n",
    "        labels[idx]=0   # 가위 : 0\n",
    "        idx=idx+1\n",
    "\n",
    "    for file in glob.iglob(img_path+'/rock/*.jpg'):\n",
    "        img = np.array(Image.open(file),dtype=np.int32)\n",
    "        imgs[idx,:,:,:]=img    # 데이터 영역에 이미지 행렬을 복사\n",
    "        labels[idx]=1   # 바위 : 1\n",
    "        idx=idx+1       \n",
    "    \n",
    "    for file in glob.iglob(img_path+'/paper/*.jpg'):\n",
    "        img = np.array(Image.open(file),dtype=np.int32)\n",
    "        imgs[idx,:,:,:]=img    # 데이터 영역에 이미지 행렬을 복사\n",
    "        labels[idx]=2   # 보 : 2\n",
    "        idx=idx+1\n",
    "        \n",
    "    print(\"학습데이터(x_train)의 이미지 개수는\",idx,\"입니다.\")\n",
    "    return imgs, labels\n",
    "\n",
    "def load_test(img_path):\n",
    "    # 가위 : 0, 바위 : 1, 보 : 2\n",
    "    number_of_data=300\n",
    "    img_size=28\n",
    "    color=3\n",
    "    \n",
    "    imgs=np.zeros(number_of_data*img_size*img_size*color,dtype=np.int32).reshape(number_of_data,img_size,img_size,color)\n",
    "    labels=np.zeros(number_of_data,dtype=np.int32)\n",
    "\n",
    "    idx=0\n",
    "    for file in glob.iglob(img_path+'/scissor/*.jpg'):\n",
    "        img = np.array(Image.open(file),dtype=np.int32)\n",
    "        imgs[idx,:,:,:]=img    # 데이터 영역에 이미지 행렬을 복사\n",
    "        labels[idx]=0   # 가위 : 0\n",
    "        idx=idx+1\n",
    "\n",
    "    for file in glob.iglob(img_path+'/rock/*.jpg'):\n",
    "        img = np.array(Image.open(file),dtype=np.int32)\n",
    "        imgs[idx,:,:,:]=img    # 데이터 영역에 이미지 행렬을 복사\n",
    "        labels[idx]=1   # 바위 : 1\n",
    "        idx=idx+1       \n",
    "    \n",
    "    for file in glob.iglob(img_path+'/paper/*.jpg'):\n",
    "        img = np.array(Image.open(file),dtype=np.int32)\n",
    "        imgs[idx,:,:,:]=img    # 데이터 영역에 이미지 행렬을 복사\n",
    "        labels[idx]=2   # 보 : 2\n",
    "        idx=idx+1\n",
    "        \n",
    "    print(\"시험데이터(x_test)의 이미지 개수는\",idx,\"입니다.\")\n",
    "    return imgs, labels\n",
    "\n",
    "image_dir_path = os.getenv(\"HOME\") + \"/aiffel/rock_scissor_paper\"\n",
    "(x_train, y_train)=load_data(image_dir_path)\n",
    "x_train_norm = x_train/255.0   # 입력은 0~1 사이의 값으로 정규화\n",
    "\n",
    "test_dir_path = os.getenv(\"HOME\") + \"/aiffel/rock_scissor_paper_test\"\n",
    "(x_test, y_test)=load_test(test_dir_path)\n",
    "x_test_norm = x_test/255.0\n",
    "\n",
    "print(\"x_train shape: {}\".format(x_train.shape))\n",
    "print(\"y_train shape: {}\".format(y_train.shape))\n",
    "print(\"x_test shape: {}\".format(x_test.shape))\n",
    "print(\"y_test shape: {}\".format(y_test.shape))"
   ]
  },
  {
   "cell_type": "markdown",
   "metadata": {},
   "source": [
    "## **모델 설계하기**"
   ]
  },
  {
   "cell_type": "code",
   "execution_count": 3,
   "metadata": {},
   "outputs": [
    {
     "name": "stdout",
     "output_type": "stream",
     "text": [
      "Model: \"sequential\"\n",
      "_________________________________________________________________\n",
      "Layer (type)                 Output Shape              Param #   \n",
      "=================================================================\n",
      "conv2d (Conv2D)              (None, 26, 26, 16)        448       \n",
      "_________________________________________________________________\n",
      "max_pooling2d (MaxPooling2D) (None, 13, 13, 16)        0         \n",
      "_________________________________________________________________\n",
      "conv2d_1 (Conv2D)            (None, 11, 11, 16)        2320      \n",
      "_________________________________________________________________\n",
      "max_pooling2d_1 (MaxPooling2 (None, 5, 5, 16)          0         \n",
      "_________________________________________________________________\n",
      "flatten (Flatten)            (None, 400)               0         \n",
      "_________________________________________________________________\n",
      "dense (Dense)                (None, 16)                6416      \n",
      "_________________________________________________________________\n",
      "dense_1 (Dense)              (None, 3)                 51        \n",
      "=================================================================\n",
      "Total params: 9,235\n",
      "Trainable params: 9,235\n",
      "Non-trainable params: 0\n",
      "_________________________________________________________________\n"
     ]
    }
   ],
   "source": [
    "import tensorflow as tf\n",
    "from tensorflow import keras\n",
    "\n",
    "x_train_reshaped=x_train_norm.reshape(-1, 28, 28, 3)\n",
    "x_test_reshaped=x_test_norm.reshape( -1, 28, 28, 3)\n",
    "\n",
    "n_channel_1=16\n",
    "n_channel_2=16\n",
    "n_dense=16\n",
    "n_train_epoch=35\n",
    "\n",
    "model=keras.models.Sequential()\n",
    "model.add(keras.layers.Conv2D(n_channel_1, (3,3), activation='relu', input_shape=(28,28,3)))\n",
    "model.add(keras.layers.MaxPool2D(2,2))\n",
    "model.add(keras.layers.Conv2D(n_channel_2, (3,3), activation='relu'))\n",
    "model.add(keras.layers.MaxPooling2D((2,2)))\n",
    "model.add(keras.layers.Flatten())\n",
    "model.add(keras.layers.Dense(n_dense, activation='relu'))\n",
    "model.add(keras.layers.Dense(3, activation='softmax'))\n",
    "\n",
    "model.summary()\n",
    "\n",
    "model.compile(optimizer='adam',\n",
    "             loss='sparse_categorical_crossentropy',\n",
    "             metrics=['accuracy'])"
   ]
  },
  {
   "cell_type": "markdown",
   "metadata": {},
   "source": [
    "## **훈련 및 시험하기**"
   ]
  },
  {
   "cell_type": "code",
   "execution_count": 4,
   "metadata": {},
   "outputs": [
    {
     "name": "stdout",
     "output_type": "stream",
     "text": [
      "Epoch 1/35\n",
      "55/55 [==============================] - 4s 67ms/step - loss: 1.0954 - accuracy: 0.3818\n",
      "Epoch 2/35\n",
      "55/55 [==============================] - 0s 1ms/step - loss: 1.0775 - accuracy: 0.4345\n",
      "Epoch 3/35\n",
      "55/55 [==============================] - 0s 1ms/step - loss: 1.0098 - accuracy: 0.4957\n",
      "Epoch 4/35\n",
      "55/55 [==============================] - 0s 1ms/step - loss: 0.9048 - accuracy: 0.5787\n",
      "Epoch 5/35\n",
      "55/55 [==============================] - 0s 1ms/step - loss: 0.7934 - accuracy: 0.6646\n",
      "Epoch 6/35\n",
      "55/55 [==============================] - 0s 1ms/step - loss: 0.7027 - accuracy: 0.7104\n",
      "Epoch 7/35\n",
      "55/55 [==============================] - 0s 1ms/step - loss: 0.6369 - accuracy: 0.7493\n",
      "Epoch 8/35\n",
      "55/55 [==============================] - 0s 1ms/step - loss: 0.5588 - accuracy: 0.7911\n",
      "Epoch 9/35\n",
      "55/55 [==============================] - 0s 1ms/step - loss: 0.5011 - accuracy: 0.8226\n",
      "Epoch 10/35\n",
      "55/55 [==============================] - 0s 1ms/step - loss: 0.4410 - accuracy: 0.8580\n",
      "Epoch 11/35\n",
      "55/55 [==============================] - 0s 1ms/step - loss: 0.4022 - accuracy: 0.8626\n",
      "Epoch 12/35\n",
      "55/55 [==============================] - 0s 1ms/step - loss: 0.3622 - accuracy: 0.8884\n",
      "Epoch 13/35\n",
      "55/55 [==============================] - 0s 2ms/step - loss: 0.3160 - accuracy: 0.9090\n",
      "Epoch 14/35\n",
      "55/55 [==============================] - 0s 2ms/step - loss: 0.2910 - accuracy: 0.9181\n",
      "Epoch 15/35\n",
      "55/55 [==============================] - 0s 2ms/step - loss: 0.2604 - accuracy: 0.9239\n",
      "Epoch 16/35\n",
      "55/55 [==============================] - 0s 2ms/step - loss: 0.2391 - accuracy: 0.9302\n",
      "Epoch 17/35\n",
      "55/55 [==============================] - 0s 2ms/step - loss: 0.2036 - accuracy: 0.9450\n",
      "Epoch 18/35\n",
      "55/55 [==============================] - 0s 1ms/step - loss: 0.1782 - accuracy: 0.9542\n",
      "Epoch 19/35\n",
      "55/55 [==============================] - 0s 1ms/step - loss: 0.1815 - accuracy: 0.9508\n",
      "Epoch 20/35\n",
      "55/55 [==============================] - 0s 1ms/step - loss: 0.1402 - accuracy: 0.9685\n",
      "Epoch 21/35\n",
      "55/55 [==============================] - 0s 1ms/step - loss: 0.1388 - accuracy: 0.9651\n",
      "Epoch 22/35\n",
      "55/55 [==============================] - 0s 1ms/step - loss: 0.1154 - accuracy: 0.9760\n",
      "Epoch 23/35\n",
      "55/55 [==============================] - 0s 1ms/step - loss: 0.1070 - accuracy: 0.9788\n",
      "Epoch 24/35\n",
      "55/55 [==============================] - 0s 1ms/step - loss: 0.0911 - accuracy: 0.9800\n",
      "Epoch 25/35\n",
      "55/55 [==============================] - 0s 1ms/step - loss: 0.0890 - accuracy: 0.9823\n",
      "Epoch 26/35\n",
      "55/55 [==============================] - 0s 1ms/step - loss: 0.0770 - accuracy: 0.9851\n",
      "Epoch 27/35\n",
      "55/55 [==============================] - 0s 2ms/step - loss: 0.0617 - accuracy: 0.9926\n",
      "Epoch 28/35\n",
      "55/55 [==============================] - 0s 2ms/step - loss: 0.0735 - accuracy: 0.9863\n",
      "Epoch 29/35\n",
      "55/55 [==============================] - 0s 1ms/step - loss: 0.0534 - accuracy: 0.9931\n",
      "Epoch 30/35\n",
      "55/55 [==============================] - 0s 1ms/step - loss: 0.0459 - accuracy: 0.9966\n",
      "Epoch 31/35\n",
      "55/55 [==============================] - 0s 2ms/step - loss: 0.0548 - accuracy: 0.9891\n",
      "Epoch 32/35\n",
      "55/55 [==============================] - 0s 2ms/step - loss: 0.0558 - accuracy: 0.9908\n",
      "Epoch 33/35\n",
      "55/55 [==============================] - 0s 1ms/step - loss: 0.0439 - accuracy: 0.9926\n",
      "Epoch 34/35\n",
      "55/55 [==============================] - 0s 1ms/step - loss: 0.0355 - accuracy: 0.9966\n",
      "Epoch 35/35\n",
      "55/55 [==============================] - 0s 1ms/step - loss: 0.0278 - accuracy: 0.9983\n",
      "10/10 - 2s - loss: 0.8986 - accuracy: 0.8100\n",
      "test_loss: 0.8985874652862549 \n",
      "test_accuracy: 0.8100000023841858\n"
     ]
    }
   ],
   "source": [
    "# 모델 훈련\n",
    "model.fit(x_train_reshaped, y_train, epochs=n_train_epoch)\n",
    "\n",
    "# 모델 시험\n",
    "test_loss, test_accuracy = model.evaluate(x_test_reshaped, y_test, verbose=2)\n",
    "print(\"test_loss: {} \".format(test_loss))\n",
    "print(\"test_accuracy: {}\".format(test_accuracy))"
   ]
  },
  {
   "cell_type": "markdown",
   "metadata": {},
   "source": [
    "## **모델 추론 확인 및 검출**"
   ]
  },
  {
   "cell_type": "code",
   "execution_count": 5,
   "metadata": {},
   "outputs": [
    {
     "name": "stdout",
     "output_type": "stream",
     "text": [
      "model.predict() 결과 :  [2.4468964e-04 1.5333577e-01 8.4641957e-01]\n",
      "model이 추론한 가장 가능성이 높은 결과 :  2\n",
      "실제 데이터의 라벨 :  0\n",
      "예측확률분포: [2.2423446e-14 6.0506491e-06 9.9999392e-01]\n",
      "라벨: 1, 예측결과: 2\n"
     ]
    },
    {
     "data": {
      "image/png": "[encoded data removed]",
      "text/plain": [
       "<Figure size 432x288 with 1 Axes>"
      ]
     },
     "metadata": {
      "needs_background": "light"
     },
     "output_type": "display_data"
    },
    {
     "name": "stdout",
     "output_type": "stream",
     "text": [
      "예측확률분포: [5.1526505e-01 4.3424470e-07 4.8473454e-01]\n",
      "라벨: 2, 예측결과: 0\n"
     ]
    },
    {
     "data": {
      "image/png": "[encoded data removed]",
      "text/plain": [
       "<Figure size 432x288 with 1 Axes>"
      ]
     },
     "metadata": {
      "needs_background": "light"
     },
     "output_type": "display_data"
    },
    {
     "name": "stdout",
     "output_type": "stream",
     "text": [
      "예측확률분포: [0.9851364  0.00882032 0.00604326]\n",
      "라벨: 2, 예측결과: 0\n"
     ]
    },
    {
     "data": {
      "image/png": "[encoded data removed]",
      "text/plain": [
       "<Figure size 432x288 with 1 Axes>"
      ]
     },
     "metadata": {
      "needs_background": "light"
     },
     "output_type": "display_data"
    },
    {
     "name": "stdout",
     "output_type": "stream",
     "text": [
      "예측확률분포: [0.97025925 0.02764815 0.00209256]\n",
      "라벨: 2, 예측결과: 0\n"
     ]
    },
    {
     "data": {
      "image/png": "[encoded data removed]",
      "text/plain": [
       "<Figure size 432x288 with 1 Axes>"
      ]
     },
     "metadata": {
      "needs_background": "light"
     },
     "output_type": "display_data"
    },
    {
     "name": "stdout",
     "output_type": "stream",
     "text": [
      "예측확률분포: [9.916038e-01 5.954114e-05 8.336650e-03]\n",
      "라벨: 2, 예측결과: 0\n"
     ]
    },
    {
     "data": {
      "image/png": "[encoded data removed]",
      "text/plain": [
       "<Figure size 432x288 with 1 Axes>"
      ]
     },
     "metadata": {
      "needs_background": "light"
     },
     "output_type": "display_data"
    }
   ],
   "source": [
    "# 데이터 추론 확인\n",
    "predicted_result = model.predict(x_test_reshaped)  # model이 추론한 확률값. \n",
    "predicted_labels = np.argmax(predicted_result, axis=1)\n",
    "\n",
    "idx=0   \n",
    "print('model.predict() 결과 : ', predicted_result[idx])\n",
    "print('model이 추론한 가장 가능성이 높은 결과 : ', predicted_labels[idx])\n",
    "print('실제 데이터의 라벨 : ', y_test[idx])\n",
    "\n",
    "# 잘못 추론한 데이터 검출 및 확인\n",
    "import random\n",
    "import matplotlib.pyplot as plt\n",
    "wrong_predict_list=[]\n",
    "for i, _ in enumerate(predicted_labels):\n",
    "    \n",
    "    if predicted_labels[i] != y_test[i]:\n",
    "        wrong_predict_list.append(i)\n",
    "\n",
    "\n",
    "samples = random.choices(population=wrong_predict_list, k=5)\n",
    "\n",
    "for n in samples:\n",
    "    print(\"예측확률분포: \" + str(predicted_result[n]))\n",
    "    print(\"라벨: \" + str(y_test[n]) + \", 예측결과: \" + str(predicted_labels[n]))\n",
    "    plt.imshow(x_test[n], cmap=plt.cm.binary)\n",
    "    plt.show()"
   ]
  },
  {
   "cell_type": "markdown",
   "metadata": {},
   "source": [
    "## **Reporting**\n",
    "\n",
    "1. 이미지를 불러오고 리사이즈하는 과정에서 같은 작업을 여러번 반복해야 했음\n",
    "2. 패러미터를 아무리 바꿔도 예측 정확도가 50%를 넘지 못했음   \n",
    "    => 테스트 이미지의 배경이 너무 화려해서 예측을 방해한다는 코치님의 의견   \n",
    "    => 테스트 이미지와 훈련 이미지를 섞은 뒤에 무작위로 테스트 이미지를 추려내자 예측 정확도가 매우 향상됨   \n",
    "3. 훈련 이미지에 상대적으로 적은 비율을 차지하고 있는 사람의 데이터의 테스트 이미지가 테스트에서 주로 틀린 예측으로 나옴\n",
    "4. 위 방법은 편법인가? 즉 테스트 시에는 단지 이미지 개체 뿐만 아니라 유형이나 배경도 완전히 다른 종류여야 하는가?"
   ]
  },
  {
   "cell_type": "code",
   "execution_count": null,
   "metadata": {},
   "outputs": [],
   "source": []
  }
 ],
 "metadata": {
  "kernelspec": {
   "display_name": "aiffel",
   "language": "python",
   "name": "aiffel"
  },
  "language_info": {
   "codemirror_mode": {
    "name": "ipython",
    "version": 3
   },
   "file_extension": ".py",
   "mimetype": "text/x-python",
   "name": "python",
   "nbconvert_exporter": "python",
   "pygments_lexer": "ipython3",
   "version": "3.7.6"
  }
 },
 "nbformat": 4,
 "nbformat_minor": 4
}
