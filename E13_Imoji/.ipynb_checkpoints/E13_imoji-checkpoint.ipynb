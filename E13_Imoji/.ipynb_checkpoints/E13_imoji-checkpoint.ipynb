{
 "cells": [
  {
   "cell_type": "markdown",
   "metadata": {},
   "source": [
    "### 데이터 준비하기"
   ]
  },
  {
   "cell_type": "code",
   "execution_count": 1,
   "metadata": {},
   "outputs": [
    {
     "name": "stderr",
     "output_type": "stream",
     "text": [
      "100%|██████████| 35887/35887 [00:24<00:00, 1482.12it/s]"
     ]
    },
    {
     "name": "stdout",
     "output_type": "stream",
     "text": [
      "train : 32298, eval :3589\n"
     ]
    },
    {
     "name": "stderr",
     "output_type": "stream",
     "text": [
      "\n"
     ]
    }
   ],
   "source": [
    "import numpy as np\n",
    "import tqdm\n",
    "import os\n",
    "\n",
    "train_x = []\n",
    "train_y = []\n",
    "eval_x = []\n",
    "eval_y = []\n",
    "\n",
    "csv_path = os.getenv('HOME')+'/aiffel/tfjs_mobile/data/fer2013.csv'\n",
    "\n",
    "with open(csv_path) as f:\n",
    "  for line in tqdm.tqdm(f.read().splitlines()[1:]):\n",
    "    emotion, pixels, usage = line.split(',')\n",
    "    \n",
    "    x = np.array(pixels.split(' ')).astype(float).reshape(48, 48, 1) / 255\n",
    "    y = int(emotion)\n",
    "\n",
    "    if usage == 'PrivateTest':\n",
    "      eval_x.append(x)\n",
    "      eval_y.append(y)\n",
    "    else:\n",
    "      train_x.append(x)\n",
    "      train_y.append(y)\n",
    "\n",
    "print('train : {}, eval :{}'.format(len(train_x), len(eval_x)))"
   ]
  },
  {
   "cell_type": "code",
   "execution_count": 2,
   "metadata": {},
   "outputs": [
    {
     "name": "stdout",
     "output_type": "stream",
     "text": [
      "Angry\n"
     ]
    },
    {
     "data": {
      "text/plain": [
       "<matplotlib.image.AxesImage at 0x7ff859441490>"
      ]
     },
     "execution_count": 2,
     "metadata": {},
     "output_type": "execute_result"
    },
    {
     "data": {
      "image/png": "[encoded data removed]",
      "text/plain": [
       "<Figure size 432x288 with 1 Axes>"
      ]
     },
     "metadata": {
      "needs_background": "light"
     },
     "output_type": "display_data"
    }
   ],
   "source": [
    "from matplotlib import pyplot as plt\n",
    "\n",
    "LABELS = ['Angry', 'Disgust', 'Fear', 'Happy', 'Sad', 'Surprise', 'Neutral']\n",
    "\n",
    "print(LABELS[train_y[0]])\n",
    "plt.imshow(train_x[0].reshape([48, 48]), cmap='gray')"
   ]
  },
  {
   "cell_type": "markdown",
   "metadata": {},
   "source": [
    "### 모델 학습하기"
   ]
  },
  {
   "cell_type": "code",
   "execution_count": 3,
   "metadata": {},
   "outputs": [
    {
     "name": "stdout",
     "output_type": "stream",
     "text": [
      "Epoch 1/50\n",
      " 2/64 [..............................] - ETA: 3s - loss: 2.2137 - categorical_accuracy: 0.1396WARNING:tensorflow:Callbacks method `on_train_batch_end` is slow compared to the batch time (batch time: 0.0375s vs `on_train_batch_end` time: 0.0668s). Check your callbacks.\n",
      "64/64 [==============================] - 36s 562ms/step - loss: 1.8274 - categorical_accuracy: 0.2466 - val_loss: 1.9312 - val_categorical_accuracy: 0.1744\n",
      "Epoch 2/50\n",
      "64/64 [==============================] - 6s 88ms/step - loss: 1.6627 - categorical_accuracy: 0.3336 - val_loss: 1.9237 - val_categorical_accuracy: 0.1744\n",
      "Epoch 3/50\n",
      "64/64 [==============================] - 6s 87ms/step - loss: 1.5549 - categorical_accuracy: 0.3924 - val_loss: 1.9192 - val_categorical_accuracy: 0.1368\n",
      "Epoch 4/50\n",
      "64/64 [==============================] - 6s 92ms/step - loss: 1.4540 - categorical_accuracy: 0.4349 - val_loss: 1.9221 - val_categorical_accuracy: 0.1368\n",
      "Epoch 5/50\n",
      "64/64 [==============================] - 6s 97ms/step - loss: 1.3740 - categorical_accuracy: 0.4736 - val_loss: 1.9245 - val_categorical_accuracy: 0.1368\n",
      "Epoch 6/50\n",
      "64/64 [==============================] - 7s 108ms/step - loss: 1.3154 - categorical_accuracy: 0.4970 - val_loss: 1.9279 - val_categorical_accuracy: 0.1655\n",
      "Epoch 7/50\n",
      "64/64 [==============================] - 7s 112ms/step - loss: 1.2341 - categorical_accuracy: 0.5358 - val_loss: 1.9221 - val_categorical_accuracy: 0.1655\n",
      "Epoch 8/50\n",
      "64/64 [==============================] - 6s 96ms/step - loss: 1.1712 - categorical_accuracy: 0.5562 - val_loss: 1.9178 - val_categorical_accuracy: 0.1655\n",
      "Epoch 9/50\n",
      "64/64 [==============================] - 7s 103ms/step - loss: 1.1117 - categorical_accuracy: 0.5841 - val_loss: 1.9152 - val_categorical_accuracy: 0.1655\n",
      "Epoch 10/50\n",
      "64/64 [==============================] - 7s 104ms/step - loss: 1.0675 - categorical_accuracy: 0.6002 - val_loss: 1.8997 - val_categorical_accuracy: 0.1655\n",
      "Epoch 11/50\n",
      "64/64 [==============================] - 6s 96ms/step - loss: 1.0162 - categorical_accuracy: 0.6245 - val_loss: 1.9076 - val_categorical_accuracy: 0.1655\n",
      "Epoch 12/50\n",
      "64/64 [==============================] - 6s 95ms/step - loss: 0.9439 - categorical_accuracy: 0.6527 - val_loss: 1.9121 - val_categorical_accuracy: 0.1655\n",
      "Epoch 13/50\n",
      "64/64 [==============================] - 6s 97ms/step - loss: 0.9067 - categorical_accuracy: 0.6682 - val_loss: 1.9112 - val_categorical_accuracy: 0.1655\n",
      "Epoch 14/50\n",
      "64/64 [==============================] - 6s 98ms/step - loss: 0.8898 - categorical_accuracy: 0.6733 - val_loss: 1.9220 - val_categorical_accuracy: 0.1655\n",
      "Epoch 15/50\n",
      "64/64 [==============================] - 7s 104ms/step - loss: 0.7974 - categorical_accuracy: 0.7114 - val_loss: 1.9204 - val_categorical_accuracy: 0.1655\n",
      "Epoch 16/50\n",
      "64/64 [==============================] - 6s 97ms/step - loss: 0.7530 - categorical_accuracy: 0.7257 - val_loss: 1.9372 - val_categorical_accuracy: 0.1655\n",
      "Epoch 17/50\n",
      "64/64 [==============================] - 6s 96ms/step - loss: 0.7008 - categorical_accuracy: 0.7465 - val_loss: 1.9731 - val_categorical_accuracy: 0.1655\n",
      "Epoch 18/50\n",
      "64/64 [==============================] - 6s 98ms/step - loss: 0.6716 - categorical_accuracy: 0.7578 - val_loss: 1.9764 - val_categorical_accuracy: 0.1655\n",
      "Epoch 19/50\n",
      "64/64 [==============================] - 6s 99ms/step - loss: 0.6107 - categorical_accuracy: 0.7791 - val_loss: 1.9869 - val_categorical_accuracy: 0.1655\n",
      "Epoch 20/50\n",
      "64/64 [==============================] - 6s 96ms/step - loss: 0.5859 - categorical_accuracy: 0.7857 - val_loss: 2.0145 - val_categorical_accuracy: 0.1655\n",
      "Epoch 21/50\n",
      "64/64 [==============================] - 6s 95ms/step - loss: 0.5310 - categorical_accuracy: 0.8056 - val_loss: 2.0448 - val_categorical_accuracy: 0.1655\n",
      "Epoch 22/50\n",
      "64/64 [==============================] - 6s 95ms/step - loss: 0.5012 - categorical_accuracy: 0.8190 - val_loss: 2.0715 - val_categorical_accuracy: 0.1655\n",
      "Epoch 23/50\n",
      "64/64 [==============================] - 6s 96ms/step - loss: 0.4737 - categorical_accuracy: 0.8287 - val_loss: 2.1136 - val_categorical_accuracy: 0.1655\n",
      "Epoch 24/50\n",
      "64/64 [==============================] - 6s 97ms/step - loss: 0.4712 - categorical_accuracy: 0.8303 - val_loss: 2.1340 - val_categorical_accuracy: 0.1655\n",
      "Epoch 25/50\n",
      "64/64 [==============================] - 6s 99ms/step - loss: 0.4203 - categorical_accuracy: 0.8504 - val_loss: 2.1442 - val_categorical_accuracy: 0.1655\n",
      "Epoch 26/50\n",
      "64/64 [==============================] - 6s 96ms/step - loss: 0.4196 - categorical_accuracy: 0.8499 - val_loss: 2.1632 - val_categorical_accuracy: 0.1655\n",
      "Epoch 27/50\n",
      "64/64 [==============================] - 6s 95ms/step - loss: 0.4936 - categorical_accuracy: 0.8192 - val_loss: 2.1979 - val_categorical_accuracy: 0.1655\n",
      "Epoch 28/50\n",
      "64/64 [==============================] - 6s 96ms/step - loss: 0.3886 - categorical_accuracy: 0.8599 - val_loss: 2.2025 - val_categorical_accuracy: 0.1655\n",
      "Epoch 29/50\n",
      "64/64 [==============================] - 6s 97ms/step - loss: 0.3489 - categorical_accuracy: 0.8740 - val_loss: 2.1773 - val_categorical_accuracy: 0.1655\n",
      "Epoch 30/50\n",
      "64/64 [==============================] - 6s 97ms/step - loss: 0.3018 - categorical_accuracy: 0.8918 - val_loss: 2.2534 - val_categorical_accuracy: 0.1655\n",
      "Epoch 31/50\n",
      "64/64 [==============================] - 6s 98ms/step - loss: 0.3311 - categorical_accuracy: 0.8812 - val_loss: 2.2670 - val_categorical_accuracy: 0.1655\n",
      "Epoch 32/50\n",
      "64/64 [==============================] - 6s 98ms/step - loss: 0.2669 - categorical_accuracy: 0.9056 - val_loss: 2.2777 - val_categorical_accuracy: 0.1655\n",
      "Epoch 33/50\n",
      "64/64 [==============================] - 7s 113ms/step - loss: 0.2920 - categorical_accuracy: 0.8959 - val_loss: 2.2677 - val_categorical_accuracy: 0.1655\n",
      "Epoch 34/50\n",
      "64/64 [==============================] - 7s 116ms/step - loss: 0.3105 - categorical_accuracy: 0.8919 - val_loss: 2.3183 - val_categorical_accuracy: 0.1655\n",
      "Epoch 35/50\n",
      "64/64 [==============================] - 7s 108ms/step - loss: 0.2775 - categorical_accuracy: 0.9009 - val_loss: 2.2868 - val_categorical_accuracy: 0.1655\n",
      "Epoch 36/50\n",
      "64/64 [==============================] - 8s 125ms/step - loss: 0.2312 - categorical_accuracy: 0.9192 - val_loss: 2.4177 - val_categorical_accuracy: 0.1655\n",
      "Epoch 37/50\n",
      "64/64 [==============================] - 8s 121ms/step - loss: 0.2112 - categorical_accuracy: 0.9262 - val_loss: 2.3966 - val_categorical_accuracy: 0.1655\n",
      "Epoch 38/50\n",
      "64/64 [==============================] - 7s 106ms/step - loss: 0.2352 - categorical_accuracy: 0.9177 - val_loss: 2.4008 - val_categorical_accuracy: 0.1655\n",
      "Epoch 39/50\n",
      "64/64 [==============================] - 6s 97ms/step - loss: 0.2040 - categorical_accuracy: 0.9301 - val_loss: 2.3763 - val_categorical_accuracy: 0.1655\n",
      "Epoch 40/50\n",
      "64/64 [==============================] - 6s 98ms/step - loss: 0.1933 - categorical_accuracy: 0.9330 - val_loss: 2.3345 - val_categorical_accuracy: 0.1655\n",
      "Epoch 41/50\n",
      "64/64 [==============================] - 6s 97ms/step - loss: 0.1670 - categorical_accuracy: 0.9420 - val_loss: 2.3978 - val_categorical_accuracy: 0.1655\n",
      "Epoch 42/50\n",
      "64/64 [==============================] - 6s 96ms/step - loss: 0.2371 - categorical_accuracy: 0.9166 - val_loss: 2.3874 - val_categorical_accuracy: 0.1655\n",
      "Epoch 43/50\n",
      "64/64 [==============================] - 6s 98ms/step - loss: 0.1887 - categorical_accuracy: 0.9351 - val_loss: 2.4160 - val_categorical_accuracy: 0.1655\n",
      "Epoch 44/50\n",
      "64/64 [==============================] - 6s 96ms/step - loss: 0.1673 - categorical_accuracy: 0.9417 - val_loss: 2.4598 - val_categorical_accuracy: 0.1655\n",
      "Epoch 45/50\n",
      "64/64 [==============================] - 6s 99ms/step - loss: 0.2002 - categorical_accuracy: 0.9315 - val_loss: 2.4726 - val_categorical_accuracy: 0.1655\n",
      "Epoch 46/50\n",
      "64/64 [==============================] - 6s 99ms/step - loss: 0.3218 - categorical_accuracy: 0.8876 - val_loss: 2.3863 - val_categorical_accuracy: 0.1655\n",
      "Epoch 47/50\n",
      "64/64 [==============================] - 6s 100ms/step - loss: 0.1360 - categorical_accuracy: 0.9543 - val_loss: 2.4758 - val_categorical_accuracy: 0.1655\n",
      "Epoch 48/50\n",
      "64/64 [==============================] - 6s 97ms/step - loss: 0.1599 - categorical_accuracy: 0.9462 - val_loss: 2.4717 - val_categorical_accuracy: 0.1655\n"
     ]
    },
    {
     "name": "stdout",
     "output_type": "stream",
     "text": [
      "Epoch 49/50\n",
      "64/64 [==============================] - 6s 97ms/step - loss: 0.1750 - categorical_accuracy: 0.9388 - val_loss: 2.5050 - val_categorical_accuracy: 0.1655\n",
      "Epoch 50/50\n",
      "64/64 [==============================] - 6s 94ms/step - loss: 0.1517 - categorical_accuracy: 0.9479 - val_loss: 2.5745 - val_categorical_accuracy: 0.1655\n"
     ]
    },
    {
     "data": {
      "text/plain": [
       "<tensorflow.python.keras.callbacks.History at 0x7ff797e30490>"
      ]
     },
     "execution_count": 3,
     "metadata": {},
     "output_type": "execute_result"
    }
   ],
   "source": [
    "import tensorflow as tf\n",
    "\n",
    "# model 선언 \n",
    "model = tf.keras.applications.MobileNetV2(input_shape=(48, 48, 1), weights=None, classes=7)\n",
    "\n",
    "# model.compile\n",
    "model.compile(optimizer=tf.keras.optimizers.Adam(),\n",
    "              loss=tf.keras.losses.CategoricalCrossentropy(),\n",
    "              metrics=[tf.keras.metrics.CategoricalAccuracy()])\n",
    "\n",
    "#model.fit\n",
    "model.fit(np.stack(train_x),\n",
    "          tf.keras.utils.to_categorical(train_y),\n",
    "          epochs=50,\n",
    "          batch_size=512,\n",
    "          validation_data=(np.stack(eval_x),\n",
    "                           tf.keras.utils.to_categorical(eval_y)))\n"
   ]
  },
  {
   "cell_type": "markdown",
   "metadata": {},
   "source": [
    "### 모델을 TensorFlow.js 형식으로 변환"
   ]
  },
  {
   "cell_type": "code",
   "execution_count": 8,
   "metadata": {},
   "outputs": [],
   "source": [
    "import os\n",
    "model_path = os.getenv('HOME')+'/project/aiffel-lms/E13_Imoji/model.h5'\n",
    "model.save(model_path)"
   ]
  },
  {
   "cell_type": "markdown",
   "metadata": {},
   "source": [
    "### 웹앱\n",
    "https://hwan27.github.io/tfjs_mobile/"
   ]
  },
  {
   "cell_type": "code",
   "execution_count": null,
   "metadata": {},
   "outputs": [],
   "source": []
  }
 ],
 "metadata": {
  "kernelspec": {
   "display_name": "aiffel",
   "language": "python",
   "name": "aiffel"
  },
  "language_info": {
   "codemirror_mode": {
    "name": "ipython",
    "version": 3
   },
   "file_extension": ".py",
   "mimetype": "text/x-python",
   "name": "python",
   "nbconvert_exporter": "python",
   "pygments_lexer": "ipython3",
   "version": "3.7.6"
  }
 },
 "nbformat": 4,
 "nbformat_minor": 4
}
